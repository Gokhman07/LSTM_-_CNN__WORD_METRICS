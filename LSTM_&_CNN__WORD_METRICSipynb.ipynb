{
  "nbformat": 4,
  "nbformat_minor": 0,
  "metadata": {
    "accelerator": "GPU",
    "colab": {
      "provenance": [],
      "collapsed_sections": []
    },
    "kernelspec": {
      "display_name": "Python 3",
      "name": "python3"
    }
  },
  "cells": [
    {
      "cell_type": "markdown",
      "metadata": {
        "id": "2wVpgWRgdq50"
      },
      "source": []
    },
    {
      "cell_type": "code",
      "metadata": {
        "id": "FuacPXiJAcp5"
      },
      "source": [
        "def word_metrics(text):\n",
        "    def statistic_metric(text):\n",
        "        words = text.split()\n",
        "        Sum = 0\n",
        "\n",
        "        for word in words:\n",
        "            for i in word:\n",
        "                Sum = Sum + ord(i) * word.count(i) / len(word) * (len(word) - word.index(i))\n",
        "        return Sum/10**4\n",
        "\n",
        "    def arithmetic_coding(text):\n",
        "\n",
        "   \n",
        "\n",
        "        class Segment:\n",
        "            left = None\n",
        "            right = None\n",
        "            character = None\n",
        "\n",
        "            def output(self):\n",
        "                print(self.right, self.left, self.character)\n",
        "\n",
        "        def define_segments(letters, probability):\n",
        "\n",
        "            segment = []\n",
        "            l = 0\n",
        "            for i in range(0, len(letters)):\n",
        "                segment.append(Segment())\n",
        "                segment[i].left = l\n",
        "                segment[i].right = l + probability[i]\n",
        "                l = segment[i].right\n",
        "                segment[i].character = letters[i]\n",
        "\n",
        "            return segment\n",
        "\n",
        "        letters = []\n",
        "        probability = []\n",
        "        segment = []\n",
        "\n",
        "        left = 0\n",
        "        right = 1\n",
        "\n",
        "   \n",
        "        for i in text:\n",
        "            if i not in letters:\n",
        "                letters.append(i)\n",
        "\n",
        "      \n",
        "        for i in letters:\n",
        "            probability.append(text.count(i) / len(text))\n",
        "\n",
        " \n",
        "        segment = define_segments(letters, probability)\n",
        "\n",
        "        for i in text:\n",
        "            id = 0\n",
        "            id = letters.index(i)\n",
        "            newRight = left + (right - left) * segment[id].right\n",
        "            newLeft = left + (right - left) * segment[id].left\n",
        "            left = newLeft\n",
        "            right = newRight\n",
        "\n",
        "        return (left + right) / 2\n",
        "\n",
        "    def string_to_decimal(text):\n",
        "        dec = 0\n",
        "\n",
        "        words = text.split()\n",
        "\n",
        "        for word in words:\n",
        "  \n",
        "         \n",
        "            for i in range(len(word)):\n",
        "                dec = dec + (ord(word[i]))*(i+1)\n",
        "           \n",
        "        return dec/10**5\n",
        "\n",
        "   \n",
        "    return [statistic_metric(text), string_to_decimal(text),arithmetic_coding(text)]"
      ],
      "execution_count": null,
      "outputs": []
    },
    {
      "cell_type": "markdown",
      "metadata": {
        "id": "OvIW7qMOdyNO"
      },
      "source": [
        "Подключение библиотек"
      ]
    },
    {
      "cell_type": "code",
      "metadata": {
        "id": "azZFMA-YdrPw"
      },
      "source": [
        "import pandas as pd\n",
        "import numpy as np\n",
        "import os"
      ],
      "execution_count": null,
      "outputs": []
    },
    {
      "cell_type": "markdown",
      "metadata": {
        "id": "npJstQlWd6MH"
      },
      "source": [
        "Загрузка датасета"
      ]
    },
    {
      "cell_type": "code",
      "metadata": {
        "colab": {
          "base_uri": "https://localhost:8080/",
          "height": 528
        },
        "id": "oVoXyLOqd8JY",
        "outputId": "3c7c2609-013d-4501-943e-e7a551f81e91"
      },
      "source": [
        "from google.colab import drive\n",
        "drive.mount('/content/gdrive')"
      ],
      "execution_count": null,
      "outputs": [
        {
          "output_type": "error",
          "ename": "KeyboardInterrupt",
          "evalue": "ignored",
          "traceback": [
            "\u001b[0;31m---------------------------------------------------------------------------\u001b[0m",
            "\u001b[0;31mKeyboardInterrupt\u001b[0m                         Traceback (most recent call last)",
            "\u001b[0;32m/usr/local/lib/python3.7/dist-packages/ipykernel/kernelbase.py\u001b[0m in \u001b[0;36m_input_request\u001b[0;34m(self, prompt, ident, parent, password)\u001b[0m\n\u001b[1;32m    728\u001b[0m             \u001b[0;32mtry\u001b[0m\u001b[0;34m:\u001b[0m\u001b[0;34m\u001b[0m\u001b[0;34m\u001b[0m\u001b[0m\n\u001b[0;32m--> 729\u001b[0;31m                 \u001b[0mident\u001b[0m\u001b[0;34m,\u001b[0m \u001b[0mreply\u001b[0m \u001b[0;34m=\u001b[0m \u001b[0mself\u001b[0m\u001b[0;34m.\u001b[0m\u001b[0msession\u001b[0m\u001b[0;34m.\u001b[0m\u001b[0mrecv\u001b[0m\u001b[0;34m(\u001b[0m\u001b[0mself\u001b[0m\u001b[0;34m.\u001b[0m\u001b[0mstdin_socket\u001b[0m\u001b[0;34m,\u001b[0m \u001b[0;36m0\u001b[0m\u001b[0;34m)\u001b[0m\u001b[0;34m\u001b[0m\u001b[0;34m\u001b[0m\u001b[0m\n\u001b[0m\u001b[1;32m    730\u001b[0m             \u001b[0;32mexcept\u001b[0m \u001b[0mException\u001b[0m\u001b[0;34m:\u001b[0m\u001b[0;34m\u001b[0m\u001b[0;34m\u001b[0m\u001b[0m\n",
            "\u001b[0;32m/usr/local/lib/python3.7/dist-packages/jupyter_client/session.py\u001b[0m in \u001b[0;36mrecv\u001b[0;34m(self, socket, mode, content, copy)\u001b[0m\n\u001b[1;32m    802\u001b[0m         \u001b[0;32mtry\u001b[0m\u001b[0;34m:\u001b[0m\u001b[0;34m\u001b[0m\u001b[0;34m\u001b[0m\u001b[0m\n\u001b[0;32m--> 803\u001b[0;31m             \u001b[0mmsg_list\u001b[0m \u001b[0;34m=\u001b[0m \u001b[0msocket\u001b[0m\u001b[0;34m.\u001b[0m\u001b[0mrecv_multipart\u001b[0m\u001b[0;34m(\u001b[0m\u001b[0mmode\u001b[0m\u001b[0;34m,\u001b[0m \u001b[0mcopy\u001b[0m\u001b[0;34m=\u001b[0m\u001b[0mcopy\u001b[0m\u001b[0;34m)\u001b[0m\u001b[0;34m\u001b[0m\u001b[0;34m\u001b[0m\u001b[0m\n\u001b[0m\u001b[1;32m    804\u001b[0m         \u001b[0;32mexcept\u001b[0m \u001b[0mzmq\u001b[0m\u001b[0;34m.\u001b[0m\u001b[0mZMQError\u001b[0m \u001b[0;32mas\u001b[0m \u001b[0me\u001b[0m\u001b[0;34m:\u001b[0m\u001b[0;34m\u001b[0m\u001b[0;34m\u001b[0m\u001b[0m\n",
            "\u001b[0;32m/usr/local/lib/python3.7/dist-packages/zmq/sugar/socket.py\u001b[0m in \u001b[0;36mrecv_multipart\u001b[0;34m(self, flags, copy, track)\u001b[0m\n\u001b[1;32m    582\u001b[0m         \"\"\"\n\u001b[0;32m--> 583\u001b[0;31m         \u001b[0mparts\u001b[0m \u001b[0;34m=\u001b[0m \u001b[0;34m[\u001b[0m\u001b[0mself\u001b[0m\u001b[0;34m.\u001b[0m\u001b[0mrecv\u001b[0m\u001b[0;34m(\u001b[0m\u001b[0mflags\u001b[0m\u001b[0;34m,\u001b[0m \u001b[0mcopy\u001b[0m\u001b[0;34m=\u001b[0m\u001b[0mcopy\u001b[0m\u001b[0;34m,\u001b[0m \u001b[0mtrack\u001b[0m\u001b[0;34m=\u001b[0m\u001b[0mtrack\u001b[0m\u001b[0;34m)\u001b[0m\u001b[0;34m]\u001b[0m\u001b[0;34m\u001b[0m\u001b[0;34m\u001b[0m\u001b[0m\n\u001b[0m\u001b[1;32m    584\u001b[0m         \u001b[0;31m# have first part already, only loop while more to receive\u001b[0m\u001b[0;34m\u001b[0m\u001b[0;34m\u001b[0m\u001b[0;34m\u001b[0m\u001b[0m\n",
            "\u001b[0;32mzmq/backend/cython/socket.pyx\u001b[0m in \u001b[0;36mzmq.backend.cython.socket.Socket.recv\u001b[0;34m()\u001b[0m\n",
            "\u001b[0;32mzmq/backend/cython/socket.pyx\u001b[0m in \u001b[0;36mzmq.backend.cython.socket.Socket.recv\u001b[0;34m()\u001b[0m\n",
            "\u001b[0;32mzmq/backend/cython/socket.pyx\u001b[0m in \u001b[0;36mzmq.backend.cython.socket._recv_copy\u001b[0;34m()\u001b[0m\n",
            "\u001b[0;32m/usr/local/lib/python3.7/dist-packages/zmq/backend/cython/checkrc.pxd\u001b[0m in \u001b[0;36mzmq.backend.cython.checkrc._check_rc\u001b[0;34m()\u001b[0m\n",
            "\u001b[0;31mKeyboardInterrupt\u001b[0m: ",
            "\nDuring handling of the above exception, another exception occurred:\n",
            "\u001b[0;31mKeyboardInterrupt\u001b[0m                         Traceback (most recent call last)",
            "\u001b[0;32m<ipython-input-3-4996ee3d8d09>\u001b[0m in \u001b[0;36m<module>\u001b[0;34m()\u001b[0m\n\u001b[1;32m      1\u001b[0m \u001b[0;32mfrom\u001b[0m \u001b[0mgoogle\u001b[0m\u001b[0;34m.\u001b[0m\u001b[0mcolab\u001b[0m \u001b[0;32mimport\u001b[0m \u001b[0mdrive\u001b[0m\u001b[0;34m\u001b[0m\u001b[0;34m\u001b[0m\u001b[0m\n\u001b[0;32m----> 2\u001b[0;31m \u001b[0mdrive\u001b[0m\u001b[0;34m.\u001b[0m\u001b[0mmount\u001b[0m\u001b[0;34m(\u001b[0m\u001b[0;34m'/content/gdrive'\u001b[0m\u001b[0;34m)\u001b[0m\u001b[0;34m\u001b[0m\u001b[0;34m\u001b[0m\u001b[0m\n\u001b[0m",
            "\u001b[0;32m/usr/local/lib/python3.7/dist-packages/google/colab/drive.py\u001b[0m in \u001b[0;36mmount\u001b[0;34m(mountpoint, force_remount, timeout_ms, use_metadata_server)\u001b[0m\n\u001b[1;32m    258\u001b[0m       \u001b[0;32mwith\u001b[0m \u001b[0m_output\u001b[0m\u001b[0;34m.\u001b[0m\u001b[0muse_tags\u001b[0m\u001b[0;34m(\u001b[0m\u001b[0;34m'dfs-auth-dance'\u001b[0m\u001b[0;34m)\u001b[0m\u001b[0;34m:\u001b[0m\u001b[0;34m\u001b[0m\u001b[0;34m\u001b[0m\u001b[0m\n\u001b[1;32m    259\u001b[0m         \u001b[0;32mwith\u001b[0m \u001b[0mopen\u001b[0m\u001b[0;34m(\u001b[0m\u001b[0mfifo\u001b[0m\u001b[0;34m,\u001b[0m \u001b[0;34m'w'\u001b[0m\u001b[0;34m)\u001b[0m \u001b[0;32mas\u001b[0m \u001b[0mfifo_file\u001b[0m\u001b[0;34m:\u001b[0m\u001b[0;34m\u001b[0m\u001b[0;34m\u001b[0m\u001b[0m\n\u001b[0;32m--> 260\u001b[0;31m           \u001b[0mfifo_file\u001b[0m\u001b[0;34m.\u001b[0m\u001b[0mwrite\u001b[0m\u001b[0;34m(\u001b[0m\u001b[0mget_code\u001b[0m\u001b[0;34m(\u001b[0m\u001b[0mauth_prompt\u001b[0m\u001b[0;34m)\u001b[0m \u001b[0;34m+\u001b[0m \u001b[0;34m'\\n'\u001b[0m\u001b[0;34m)\u001b[0m\u001b[0;34m\u001b[0m\u001b[0;34m\u001b[0m\u001b[0m\n\u001b[0m\u001b[1;32m    261\u001b[0m       \u001b[0mwrote_to_fifo\u001b[0m \u001b[0;34m=\u001b[0m \u001b[0;32mTrue\u001b[0m\u001b[0;34m\u001b[0m\u001b[0;34m\u001b[0m\u001b[0m\n\u001b[1;32m    262\u001b[0m     \u001b[0;32melif\u001b[0m \u001b[0mcase\u001b[0m \u001b[0;34m==\u001b[0m \u001b[0;36m5\u001b[0m\u001b[0;34m:\u001b[0m\u001b[0;34m\u001b[0m\u001b[0;34m\u001b[0m\u001b[0m\n",
            "\u001b[0;32m/usr/local/lib/python3.7/dist-packages/ipykernel/kernelbase.py\u001b[0m in \u001b[0;36mraw_input\u001b[0;34m(self, prompt)\u001b[0m\n\u001b[1;32m    702\u001b[0m             \u001b[0mself\u001b[0m\u001b[0;34m.\u001b[0m\u001b[0m_parent_ident\u001b[0m\u001b[0;34m,\u001b[0m\u001b[0;34m\u001b[0m\u001b[0;34m\u001b[0m\u001b[0m\n\u001b[1;32m    703\u001b[0m             \u001b[0mself\u001b[0m\u001b[0;34m.\u001b[0m\u001b[0m_parent_header\u001b[0m\u001b[0;34m,\u001b[0m\u001b[0;34m\u001b[0m\u001b[0;34m\u001b[0m\u001b[0m\n\u001b[0;32m--> 704\u001b[0;31m             \u001b[0mpassword\u001b[0m\u001b[0;34m=\u001b[0m\u001b[0;32mFalse\u001b[0m\u001b[0;34m,\u001b[0m\u001b[0;34m\u001b[0m\u001b[0;34m\u001b[0m\u001b[0m\n\u001b[0m\u001b[1;32m    705\u001b[0m         )\n\u001b[1;32m    706\u001b[0m \u001b[0;34m\u001b[0m\u001b[0m\n",
            "\u001b[0;32m/usr/local/lib/python3.7/dist-packages/ipykernel/kernelbase.py\u001b[0m in \u001b[0;36m_input_request\u001b[0;34m(self, prompt, ident, parent, password)\u001b[0m\n\u001b[1;32m    732\u001b[0m             \u001b[0;32mexcept\u001b[0m \u001b[0mKeyboardInterrupt\u001b[0m\u001b[0;34m:\u001b[0m\u001b[0;34m\u001b[0m\u001b[0;34m\u001b[0m\u001b[0m\n\u001b[1;32m    733\u001b[0m                 \u001b[0;31m# re-raise KeyboardInterrupt, to truncate traceback\u001b[0m\u001b[0;34m\u001b[0m\u001b[0;34m\u001b[0m\u001b[0;34m\u001b[0m\u001b[0m\n\u001b[0;32m--> 734\u001b[0;31m                 \u001b[0;32mraise\u001b[0m \u001b[0mKeyboardInterrupt\u001b[0m\u001b[0;34m\u001b[0m\u001b[0;34m\u001b[0m\u001b[0m\n\u001b[0m\u001b[1;32m    735\u001b[0m             \u001b[0;32melse\u001b[0m\u001b[0;34m:\u001b[0m\u001b[0;34m\u001b[0m\u001b[0;34m\u001b[0m\u001b[0m\n\u001b[1;32m    736\u001b[0m                 \u001b[0;32mbreak\u001b[0m\u001b[0;34m\u001b[0m\u001b[0;34m\u001b[0m\u001b[0m\n",
            "\u001b[0;31mKeyboardInterrupt\u001b[0m: "
          ]
        }
      ]
    },
    {
      "cell_type": "code",
      "metadata": {
        "id": "zda2RsKUeE5g"
      },
      "source": [
        "original_path = '/content/gdrive/My Drive/Datasets/'"
      ],
      "execution_count": null,
      "outputs": []
    },
    {
      "cell_type": "code",
      "metadata": {
        "colab": {
          "base_uri": "https://localhost:8080/",
          "height": 35
        },
        "id": "MJesI2RJeJE5",
        "outputId": "55c28d9c-23fe-4d01-a79c-ae87dafc9728"
      },
      "source": [
        "data_dir = os.path.join(original_path)\n",
        "data_dir"
      ],
      "execution_count": null,
      "outputs": [
        {
          "output_type": "execute_result",
          "data": {
            "application/vnd.google.colaboratory.intrinsic+json": {
              "type": "string"
            },
            "text/plain": [
              "'/content/gdrive/My Drive/Datasets/'"
            ]
          },
          "metadata": {
            "tags": []
          },
          "execution_count": 5
        }
      ]
    },
    {
      "cell_type": "code",
      "metadata": {
        "id": "V-2qMOXyeMqb"
      },
      "source": [
        "df_url=os.path.join(data_dir, 'big_data.json')"
      ],
      "execution_count": null,
      "outputs": []
    },
    {
      "cell_type": "code",
      "metadata": {
        "id": "wkSXjgUTeQ1f"
      },
      "source": [
        "data=pd.read_json(df_url)"
      ],
      "execution_count": null,
      "outputs": []
    },
    {
      "cell_type": "markdown",
      "metadata": {
        "id": "PWRMm5WDeTYb"
      },
      "source": [
        "Формирование датасета"
      ]
    },
    {
      "cell_type": "code",
      "metadata": {
        "colab": {
          "base_uri": "https://localhost:8080/",
          "height": 49
        },
        "id": "-fmy2k-kedNz",
        "outputId": "113a8bd6-bc5f-47c7-f94d-aaf243608be9"
      },
      "source": [
        "dic={\n",
        "     'element':[],\n",
        "     'signature':[],\n",
        "     'prediction':[]\n",
        "}\n",
        "df=pd.DataFrame(dic)\n",
        "df"
      ],
      "execution_count": null,
      "outputs": [
        {
          "output_type": "execute_result",
          "data": {
            "text/html": [
              "<div>\n",
              "<style scoped>\n",
              "    .dataframe tbody tr th:only-of-type {\n",
              "        vertical-align: middle;\n",
              "    }\n",
              "\n",
              "    .dataframe tbody tr th {\n",
              "        vertical-align: top;\n",
              "    }\n",
              "\n",
              "    .dataframe thead th {\n",
              "        text-align: right;\n",
              "    }\n",
              "</style>\n",
              "<table border=\"1\" class=\"dataframe\">\n",
              "  <thead>\n",
              "    <tr style=\"text-align: right;\">\n",
              "      <th></th>\n",
              "      <th>element</th>\n",
              "      <th>signature</th>\n",
              "      <th>prediction</th>\n",
              "    </tr>\n",
              "  </thead>\n",
              "  <tbody>\n",
              "  </tbody>\n",
              "</table>\n",
              "</div>"
            ],
            "text/plain": [
              "Empty DataFrame\n",
              "Columns: [element, signature, prediction]\n",
              "Index: []"
            ]
          },
          "metadata": {
            "tags": []
          },
          "execution_count": 8
        }
      ]
    },
    {
      "cell_type": "code",
      "metadata": {
        "id": "KUnOdoRqeVmP"
      },
      "source": [
        "k=0\n",
        "for i in data.rows.copy():\n",
        "  df.loc[k]=[i['element'],i['signature'],i['prediction']]\n",
        "  k=k+1\n"
      ],
      "execution_count": null,
      "outputs": []
    },
    {
      "cell_type": "code",
      "metadata": {
        "colab": {
          "base_uri": "https://localhost:8080/",
          "height": 142
        },
        "id": "3DbuSR8wfWBe",
        "outputId": "677fa3dc-5ad9-499e-c255-acc8483e637d"
      },
      "source": [
        "df.head(3)"
      ],
      "execution_count": null,
      "outputs": [
        {
          "output_type": "execute_result",
          "data": {
            "text/html": [
              "<div>\n",
              "<style scoped>\n",
              "    .dataframe tbody tr th:only-of-type {\n",
              "        vertical-align: middle;\n",
              "    }\n",
              "\n",
              "    .dataframe tbody tr th {\n",
              "        vertical-align: top;\n",
              "    }\n",
              "\n",
              "    .dataframe thead th {\n",
              "        text-align: right;\n",
              "    }\n",
              "</style>\n",
              "<table border=\"1\" class=\"dataframe\">\n",
              "  <thead>\n",
              "    <tr style=\"text-align: right;\">\n",
              "      <th></th>\n",
              "      <th>element</th>\n",
              "      <th>signature</th>\n",
              "      <th>prediction</th>\n",
              "    </tr>\n",
              "  </thead>\n",
              "  <tbody>\n",
              "    <tr>\n",
              "      <th>0</th>\n",
              "      <td>{'css_borderColor': 'rgba(0, 0, 0, 0)', 'css_b...</td>\n",
              "      <td>{'css_fontFamily': 'Arial, sans-serif', 'css_t...</td>\n",
              "      <td>0.0</td>\n",
              "    </tr>\n",
              "    <tr>\n",
              "      <th>1</th>\n",
              "      <td>{'css_paddingLeft': '11px', 'phantom_text_valu...</td>\n",
              "      <td>{'css_background': 'rgba(0, 0, 0, 0) none repe...</td>\n",
              "      <td>1.0</td>\n",
              "    </tr>\n",
              "    <tr>\n",
              "      <th>2</th>\n",
              "      <td>{'css_backgroundColor': 'rgb(239, 239, 239)', ...</td>\n",
              "      <td>{'css_textTransform': 'none', 'attr_aria-label...</td>\n",
              "      <td>0.0</td>\n",
              "    </tr>\n",
              "  </tbody>\n",
              "</table>\n",
              "</div>"
            ],
            "text/plain": [
              "                                             element  ... prediction\n",
              "0  {'css_borderColor': 'rgba(0, 0, 0, 0)', 'css_b...  ...        0.0\n",
              "1  {'css_paddingLeft': '11px', 'phantom_text_valu...  ...        1.0\n",
              "2  {'css_backgroundColor': 'rgb(239, 239, 239)', ...  ...        0.0\n",
              "\n",
              "[3 rows x 3 columns]"
            ]
          },
          "metadata": {
            "tags": []
          },
          "execution_count": 10
        }
      ]
    },
    {
      "cell_type": "markdown",
      "metadata": {
        "id": "Hb9Wfjeufk-I"
      },
      "source": [
        "Определение важных атрибутов"
      ]
    },
    {
      "cell_type": "code",
      "metadata": {
        "id": "6nyxN1hZfzTB"
      },
      "source": [
        "features=['element', 'signature']\n",
        "target = 'prediction'"
      ],
      "execution_count": null,
      "outputs": []
    },
    {
      "cell_type": "code",
      "metadata": {
        "id": "2V90heSYffSz"
      },
      "source": [
        "attributes=[]\n",
        "for col in features:\n",
        "  for i in range(df.shape[0]):\n",
        "    attributes.extend( df.iloc[:][col][i].keys())\n"
      ],
      "execution_count": null,
      "outputs": []
    },
    {
      "cell_type": "code",
      "metadata": {
        "id": "AwYJmN7dfHtr"
      },
      "source": [
        "empt_arr={}\n",
        "\n",
        "for key in list(attributes):\n",
        "  empt_arr[key]='none'"
      ],
      "execution_count": null,
      "outputs": []
    },
    {
      "cell_type": "code",
      "metadata": {
        "id": "TchTE8D7giA-"
      },
      "source": [
        "df_edit=df.copy()\n"
      ],
      "execution_count": null,
      "outputs": []
    },
    {
      "cell_type": "code",
      "metadata": {
        "colab": {
          "base_uri": "https://localhost:8080/"
        },
        "id": "A9VaoWJ1gmQP",
        "outputId": "1250f2ba-60fa-4329-9772-305dff515a85"
      },
      "source": [
        "for column in features:\n",
        "  for i in range(df.shape[0]): \n",
        "        cont=df_edit.iloc[i][column].copy()\n",
        "        for key in df_edit.iloc[i][column].keys():\n",
        "         ''' \n",
        "         if key not in list(attr_mean.keys()):\n",
        "            del cont[key]\n",
        "         '''\n",
        "        empt_arr2=empt_arr.copy()\n",
        "        empt_arr2.update(cont)\n",
        "        df_edit[column][i]=(empt_arr2)\n",
        "         \n",
        "         "
      ],
      "execution_count": null,
      "outputs": [
        {
          "output_type": "stream",
          "text": [
            "/usr/local/lib/python3.7/dist-packages/ipykernel_launcher.py:11: SettingWithCopyWarning: \n",
            "A value is trying to be set on a copy of a slice from a DataFrame\n",
            "\n",
            "See the caveats in the documentation: https://pandas.pydata.org/pandas-docs/stable/user_guide/indexing.html#returning-a-view-versus-a-copy\n",
            "  # This is added back by InteractiveShellApp.init_path()\n"
          ],
          "name": "stderr"
        }
      ]
    },
    {
      "cell_type": "code",
      "metadata": {
        "colab": {
          "base_uri": "https://localhost:8080/"
        },
        "id": "ogB-KJgzLZj5",
        "outputId": "f14cd582-84a3-48d2-fc19-43629c9662fa"
      },
      "source": [
        "len(df_edit['signature'][0])"
      ],
      "execution_count": null,
      "outputs": [
        {
          "output_type": "execute_result",
          "data": {
            "text/plain": [
              "234"
            ]
          },
          "metadata": {
            "tags": []
          },
          "execution_count": 16
        }
      ]
    },
    {
      "cell_type": "code",
      "metadata": {
        "id": "VlpNLaIB-Bla"
      },
      "source": [
        "attr_all=[]\n",
        "for i in features:\n",
        "  for j in df_edit[i]:\n",
        "    #print(j.values())\n",
        "    attr_all.extend(list(j.values()))\n"
      ],
      "execution_count": null,
      "outputs": []
    },
    {
      "cell_type": "code",
      "metadata": {
        "colab": {
          "base_uri": "https://localhost:8080/",
          "height": 35
        },
        "id": "G0dktU2UZTaJ",
        "outputId": "adc972f8-999b-4c78-bf19-fbe5846d6861"
      },
      "source": [
        "attr_all[0]"
      ],
      "execution_count": null,
      "outputs": [
        {
          "output_type": "execute_result",
          "data": {
            "application/vnd.google.colaboratory.intrinsic+json": {
              "type": "string"
            },
            "text/plain": [
              "'rgba(0, 0, 0, 0)'"
            ]
          },
          "metadata": {
            "tags": []
          },
          "execution_count": 18
        }
      ]
    },
    {
      "cell_type": "code",
      "metadata": {
        "id": "C06Tn5zJ9-y9"
      },
      "source": [
        "from keras.preprocessing.text import Tokenizer\n",
        "\n",
        "tokenizer=Tokenizer(num_words=len(set(attr_all)))\n",
        "\n",
        "tokenizer.fit_on_texts(set(attr_all))"
      ],
      "execution_count": null,
      "outputs": []
    },
    {
      "cell_type": "code",
      "metadata": {
        "id": "x4LP-f4aGAsR"
      },
      "source": [
        "new_file=open(\"words.txt\",mode=\"w\",encoding=\"utf-8\")"
      ],
      "execution_count": null,
      "outputs": []
    },
    {
      "cell_type": "code",
      "metadata": {
        "id": "IijaQdAeGDIR",
        "colab": {
          "base_uri": "https://localhost:8080/",
          "height": 164
        },
        "outputId": "5d6d3fc3-8295-4ecb-caf6-89381219dbe4"
      },
      "source": [
        "new_file.writelines(fruits)"
      ],
      "execution_count": null,
      "outputs": [
        {
          "output_type": "error",
          "ename": "NameError",
          "evalue": "ignored",
          "traceback": [
            "\u001b[0;31m---------------------------------------------------------------------------\u001b[0m",
            "\u001b[0;31mNameError\u001b[0m                                 Traceback (most recent call last)",
            "\u001b[0;32m<ipython-input-21-11e56a5355d0>\u001b[0m in \u001b[0;36m<module>\u001b[0;34m()\u001b[0m\n\u001b[0;32m----> 1\u001b[0;31m \u001b[0mnew_file\u001b[0m\u001b[0;34m.\u001b[0m\u001b[0mwritelines\u001b[0m\u001b[0;34m(\u001b[0m\u001b[0mfruits\u001b[0m\u001b[0;34m)\u001b[0m\u001b[0;34m\u001b[0m\u001b[0;34m\u001b[0m\u001b[0m\n\u001b[0m",
            "\u001b[0;31mNameError\u001b[0m: name 'fruits' is not defined"
          ]
        }
      ]
    },
    {
      "cell_type": "code",
      "metadata": {
        "id": "LnwJEWpF9ume"
      },
      "source": [
        "df_edir=df_edit.copy()\n",
        "df_edir=df_edir.sample(frac=1)\n",
        "    "
      ],
      "execution_count": null,
      "outputs": []
    },
    {
      "cell_type": "code",
      "metadata": {
        "id": "Grq67B-nGC86"
      },
      "source": [
        "def set_to_values(column):\n",
        "  arr_answ=[]\n",
        "  for el in df_edir[column]:\n",
        "     arr_items=[0]*400\n",
        "     i=0\n",
        "     items=[]\n",
        " \n",
        "     for item in list(tokenizer.texts_to_sequences(el.values())):\n",
        "      \n",
        "        items.extend(item)\n",
        "        \n",
        "     \n",
        "     arr_items[:len(items)]=items\n",
        "     arr_answ.extend(np.array([arr_items]))\n",
        "  return (arr_answ)\n",
        "    \n",
        "      "
      ],
      "execution_count": null,
      "outputs": []
    },
    {
      "cell_type": "code",
      "metadata": {
        "colab": {
          "base_uri": "https://localhost:8080/",
          "height": 142
        },
        "id": "dwPbnw0hiSzZ",
        "outputId": "0fe2f5d9-3e75-4b75-ad6f-75f885bcfb16"
      },
      "source": [
        "df_edir.head(3)"
      ],
      "execution_count": null,
      "outputs": [
        {
          "output_type": "execute_result",
          "data": {
            "text/html": [
              "<div>\n",
              "<style scoped>\n",
              "    .dataframe tbody tr th:only-of-type {\n",
              "        vertical-align: middle;\n",
              "    }\n",
              "\n",
              "    .dataframe tbody tr th {\n",
              "        vertical-align: top;\n",
              "    }\n",
              "\n",
              "    .dataframe thead th {\n",
              "        text-align: right;\n",
              "    }\n",
              "</style>\n",
              "<table border=\"1\" class=\"dataframe\">\n",
              "  <thead>\n",
              "    <tr style=\"text-align: right;\">\n",
              "      <th></th>\n",
              "      <th>element</th>\n",
              "      <th>signature</th>\n",
              "      <th>prediction</th>\n",
              "    </tr>\n",
              "  </thead>\n",
              "  <tbody>\n",
              "    <tr>\n",
              "      <th>10032</th>\n",
              "      <td>{'css_borderColor': 'rgb(51, 51, 51)', 'css_bo...</td>\n",
              "      <td>{'css_borderColor': 'rgb(0, 0, 0)', 'css_borde...</td>\n",
              "      <td>0.0</td>\n",
              "    </tr>\n",
              "    <tr>\n",
              "      <th>13594</th>\n",
              "      <td>{'css_borderColor': 'rgb(17, 17, 17)', 'css_bo...</td>\n",
              "      <td>{'css_borderColor': 'rgb(17, 17, 17)', 'css_bo...</td>\n",
              "      <td>0.0</td>\n",
              "    </tr>\n",
              "    <tr>\n",
              "      <th>3677</th>\n",
              "      <td>{'css_borderColor': 'rgb(238, 108, 77)', 'css_...</td>\n",
              "      <td>{'css_borderColor': 'rgb(238, 108, 77)', 'css_...</td>\n",
              "      <td>1.0</td>\n",
              "    </tr>\n",
              "  </tbody>\n",
              "</table>\n",
              "</div>"
            ],
            "text/plain": [
              "                                                 element  ... prediction\n",
              "10032  {'css_borderColor': 'rgb(51, 51, 51)', 'css_bo...  ...        0.0\n",
              "13594  {'css_borderColor': 'rgb(17, 17, 17)', 'css_bo...  ...        0.0\n",
              "3677   {'css_borderColor': 'rgb(238, 108, 77)', 'css_...  ...        1.0\n",
              "\n",
              "[3 rows x 3 columns]"
            ]
          },
          "metadata": {
            "tags": []
          },
          "execution_count": 24
        }
      ]
    },
    {
      "cell_type": "code",
      "metadata": {
        "id": "_-RzRR4N9vGW"
      },
      "source": [
        "arr1=(set_to_values('element'))\n"
      ],
      "execution_count": null,
      "outputs": []
    },
    {
      "cell_type": "code",
      "metadata": {
        "colab": {
          "base_uri": "https://localhost:8080/"
        },
        "id": "RM6IpTMwHGso",
        "outputId": "22c9408e-aa94-4b15-f026-663653705961"
      },
      "source": [
        "len(arr1)"
      ],
      "execution_count": null,
      "outputs": [
        {
          "output_type": "execute_result",
          "data": {
            "text/plain": [
              "16550"
            ]
          },
          "metadata": {
            "tags": []
          },
          "execution_count": 26
        }
      ]
    },
    {
      "cell_type": "code",
      "metadata": {
        "id": "da2vEROlUjdX"
      },
      "source": [
        "arr2=(set_to_values('signature'))\n"
      ],
      "execution_count": null,
      "outputs": []
    },
    {
      "cell_type": "code",
      "metadata": {
        "colab": {
          "base_uri": "https://localhost:8080/"
        },
        "id": "BJda552bWbI0",
        "outputId": "e7bc2445-b6ff-4968-a426-9741c760cbc7"
      },
      "source": [
        "arr2[-5]"
      ],
      "execution_count": null,
      "outputs": [
        {
          "output_type": "execute_result",
          "data": {
            "text/plain": [
              "array([   44,    59,    59,    59,     1,     6,    11,    19,    44,\n",
              "          59,    59,    59,     1,     6,    19,    11,    19,    44,\n",
              "          59,    59,    59,     1,     6,   173,    11,    19,    44,\n",
              "          59,    59,    59,     1,     6,    96,    44,    59,    59,\n",
              "          59,     1,     6,  1307,    96,   165,   165,   473,    31,\n",
              "          62,    20,    31,    16,    17,   198,    19,    11,    19,\n",
              "          44,    59,    59,    59,     1,     6,    49,    19,   818,\n",
              "          19,   473,    31,    62,    20,    31,    16,    17,    56,\n",
              "        2047,    56,  2047,     2,    11,    19,    44,    59,    59,\n",
              "          59,     1,     6,   165,   528,    44,     1,     1,     1,\n",
              "           1,    84,  2831,    19,    19,    84,  2831,    19,   528,\n",
              "          56,  2047,    84,  2831,    44,    59,    59,    59,     1,\n",
              "           6,    19,    11,    44,     1,     1,     1,     1,    19,\n",
              "          47,    43,    11,    11,    49,    38,    22,    42,    22,\n",
              "           1,     2,     4,     1,     1,     1,     1,     3,     2,\n",
              "       13506,   124,   793,  2603,   233,    83,    32,   818,   155,\n",
              "        1022,    11,   794,  1126,   110,    19,    19,    19,    19,\n",
              "          19,    19,  1545,    19,    19,    19,    19,    19,    19,\n",
              "          19,    19,    19,    19,    19,    19,    19,    19,    19,\n",
              "          19,    19,    19,    19,    19,    19,    19,    19,    19,\n",
              "          19,    19,    19,    19,    19,    19,    19,    19,    19,\n",
              "          19,    19,    19,    19,    19,    19,    19,    19,    19,\n",
              "          19,    19,    19,    19,    19,    19,    19,    19,    19,\n",
              "          19,    19,    19,    19,    19,    19,    19,    19,    19,\n",
              "          19,    19,    19,    19,    19,    19,    19,    19,    19,\n",
              "          19,    19,    19,    19,    19,    19,    19,    19,    19,\n",
              "          19,    19,    19,    19,    19,    19,    19,    19,    19,\n",
              "          19,    19,    19,    19,    19,    19,    19,    19,    19,\n",
              "          19,    19,    19,    19,    19,    19,    19,    19,    19,\n",
              "          19,    19,    19,    19,    19,    19,    19,    19,    19,\n",
              "          19,    19,    19,    19,    19,    19,    19,    19,    19,\n",
              "          19,    19,    19,    19,    19,    19,    19,    19,    19,\n",
              "          19,    19,    19,    19,    19,    19,    19,    19,    19,\n",
              "          19,    19,    19,    19,    19,    19,    19,    19,    19,\n",
              "          19,    19,    19,    19,    19,    19,    19,    19,    19,\n",
              "          19,    19,    19,    19,    19,    19,    19,    19,    19,\n",
              "          19,    19,    19,    19,    19,    19,    19,    19,    19,\n",
              "          19,    19,    19,    19,    19,    19,    19,    19,     0,\n",
              "           0,     0,     0,     0,     0,     0,     0,     0,     0,\n",
              "           0,     0,     0,     0,     0,     0,     0,     0,     0,\n",
              "           0,     0,     0,     0,     0,     0,     0,     0,     0,\n",
              "           0,     0,     0,     0,     0,     0,     0,     0,     0,\n",
              "           0,     0,     0,     0,     0,     0,     0,     0,     0,\n",
              "           0,     0,     0,     0,     0,     0,     0,     0,     0,\n",
              "           0,     0,     0,     0])"
            ]
          },
          "metadata": {
            "tags": []
          },
          "execution_count": 28
        }
      ]
    },
    {
      "cell_type": "markdown",
      "metadata": {
        "id": "Fmcv5LzCinSM"
      },
      "source": [
        "Нейроння сеть"
      ]
    },
    {
      "cell_type": "code",
      "metadata": {
        "colab": {
          "base_uri": "https://localhost:8080/"
        },
        "id": "EYMmXG-LJz9X",
        "outputId": "bd304814-ec55-48ae-fdfb-6c07e4780f0e"
      },
      "source": [
        "!pip install wandb"
      ],
      "execution_count": null,
      "outputs": [
        {
          "output_type": "stream",
          "text": [
            "Collecting wandb\n",
            "\u001b[?25l  Downloading https://files.pythonhosted.org/packages/98/5f/45439b4767334b868e1c8c35b1b0ba3747d8c21be77b79f09eed7aa3c72b/wandb-0.10.30-py2.py3-none-any.whl (1.8MB)\n",
            "\r\u001b[K     |▏                               | 10kB 22.3MB/s eta 0:00:01\r\u001b[K     |▍                               | 20kB 29.3MB/s eta 0:00:01\r\u001b[K     |▌                               | 30kB 34.3MB/s eta 0:00:01\r\u001b[K     |▊                               | 40kB 29.1MB/s eta 0:00:01\r\u001b[K     |█                               | 51kB 28.6MB/s eta 0:00:01\r\u001b[K     |█                               | 61kB 30.6MB/s eta 0:00:01\r\u001b[K     |█▎                              | 71kB 32.0MB/s eta 0:00:01\r\u001b[K     |█▌                              | 81kB 29.3MB/s eta 0:00:01\r\u001b[K     |█▋                              | 92kB 30.9MB/s eta 0:00:01\r\u001b[K     |█▉                              | 102kB 28.0MB/s eta 0:00:01\r\u001b[K     |██                              | 112kB 28.0MB/s eta 0:00:01\r\u001b[K     |██▏                             | 122kB 28.0MB/s eta 0:00:01\r\u001b[K     |██▍                             | 133kB 28.0MB/s eta 0:00:01\r\u001b[K     |██▌                             | 143kB 28.0MB/s eta 0:00:01\r\u001b[K     |██▊                             | 153kB 28.0MB/s eta 0:00:01\r\u001b[K     |███                             | 163kB 28.0MB/s eta 0:00:01\r\u001b[K     |███                             | 174kB 28.0MB/s eta 0:00:01\r\u001b[K     |███▎                            | 184kB 28.0MB/s eta 0:00:01\r\u001b[K     |███▍                            | 194kB 28.0MB/s eta 0:00:01\r\u001b[K     |███▋                            | 204kB 28.0MB/s eta 0:00:01\r\u001b[K     |███▉                            | 215kB 28.0MB/s eta 0:00:01\r\u001b[K     |████                            | 225kB 28.0MB/s eta 0:00:01\r\u001b[K     |████▏                           | 235kB 28.0MB/s eta 0:00:01\r\u001b[K     |████▍                           | 245kB 28.0MB/s eta 0:00:01\r\u001b[K     |████▌                           | 256kB 28.0MB/s eta 0:00:01\r\u001b[K     |████▊                           | 266kB 28.0MB/s eta 0:00:01\r\u001b[K     |█████                           | 276kB 28.0MB/s eta 0:00:01\r\u001b[K     |█████                           | 286kB 28.0MB/s eta 0:00:01\r\u001b[K     |█████▎                          | 296kB 28.0MB/s eta 0:00:01\r\u001b[K     |█████▍                          | 307kB 28.0MB/s eta 0:00:01\r\u001b[K     |█████▋                          | 317kB 28.0MB/s eta 0:00:01\r\u001b[K     |█████▉                          | 327kB 28.0MB/s eta 0:00:01\r\u001b[K     |██████                          | 337kB 28.0MB/s eta 0:00:01\r\u001b[K     |██████▏                         | 348kB 28.0MB/s eta 0:00:01\r\u001b[K     |██████▍                         | 358kB 28.0MB/s eta 0:00:01\r\u001b[K     |██████▌                         | 368kB 28.0MB/s eta 0:00:01\r\u001b[K     |██████▊                         | 378kB 28.0MB/s eta 0:00:01\r\u001b[K     |██████▉                         | 389kB 28.0MB/s eta 0:00:01\r\u001b[K     |███████                         | 399kB 28.0MB/s eta 0:00:01\r\u001b[K     |███████▎                        | 409kB 28.0MB/s eta 0:00:01\r\u001b[K     |███████▍                        | 419kB 28.0MB/s eta 0:00:01\r\u001b[K     |███████▋                        | 430kB 28.0MB/s eta 0:00:01\r\u001b[K     |███████▉                        | 440kB 28.0MB/s eta 0:00:01\r\u001b[K     |████████                        | 450kB 28.0MB/s eta 0:00:01\r\u001b[K     |████████▏                       | 460kB 28.0MB/s eta 0:00:01\r\u001b[K     |████████▍                       | 471kB 28.0MB/s eta 0:00:01\r\u001b[K     |████████▌                       | 481kB 28.0MB/s eta 0:00:01\r\u001b[K     |████████▊                       | 491kB 28.0MB/s eta 0:00:01\r\u001b[K     |████████▉                       | 501kB 28.0MB/s eta 0:00:01\r\u001b[K     |█████████                       | 512kB 28.0MB/s eta 0:00:01\r\u001b[K     |█████████▎                      | 522kB 28.0MB/s eta 0:00:01\r\u001b[K     |█████████▍                      | 532kB 28.0MB/s eta 0:00:01\r\u001b[K     |█████████▋                      | 542kB 28.0MB/s eta 0:00:01\r\u001b[K     |█████████▉                      | 552kB 28.0MB/s eta 0:00:01\r\u001b[K     |██████████                      | 563kB 28.0MB/s eta 0:00:01\r\u001b[K     |██████████▏                     | 573kB 28.0MB/s eta 0:00:01\r\u001b[K     |██████████▎                     | 583kB 28.0MB/s eta 0:00:01\r\u001b[K     |██████████▌                     | 593kB 28.0MB/s eta 0:00:01\r\u001b[K     |██████████▊                     | 604kB 28.0MB/s eta 0:00:01\r\u001b[K     |██████████▉                     | 614kB 28.0MB/s eta 0:00:01\r\u001b[K     |███████████                     | 624kB 28.0MB/s eta 0:00:01\r\u001b[K     |███████████▎                    | 634kB 28.0MB/s eta 0:00:01\r\u001b[K     |███████████▍                    | 645kB 28.0MB/s eta 0:00:01\r\u001b[K     |███████████▋                    | 655kB 28.0MB/s eta 0:00:01\r\u001b[K     |███████████▉                    | 665kB 28.0MB/s eta 0:00:01\r\u001b[K     |████████████                    | 675kB 28.0MB/s eta 0:00:01\r\u001b[K     |████████████▏                   | 686kB 28.0MB/s eta 0:00:01\r\u001b[K     |████████████▎                   | 696kB 28.0MB/s eta 0:00:01\r\u001b[K     |████████████▌                   | 706kB 28.0MB/s eta 0:00:01\r\u001b[K     |████████████▊                   | 716kB 28.0MB/s eta 0:00:01\r\u001b[K     |████████████▉                   | 727kB 28.0MB/s eta 0:00:01\r\u001b[K     |█████████████                   | 737kB 28.0MB/s eta 0:00:01\r\u001b[K     |█████████████▎                  | 747kB 28.0MB/s eta 0:00:01\r\u001b[K     |█████████████▍                  | 757kB 28.0MB/s eta 0:00:01\r\u001b[K     |█████████████▋                  | 768kB 28.0MB/s eta 0:00:01\r\u001b[K     |█████████████▊                  | 778kB 28.0MB/s eta 0:00:01\r\u001b[K     |██████████████                  | 788kB 28.0MB/s eta 0:00:01\r\u001b[K     |██████████████▏                 | 798kB 28.0MB/s eta 0:00:01\r\u001b[K     |██████████████▎                 | 808kB 28.0MB/s eta 0:00:01\r\u001b[K     |██████████████▌                 | 819kB 28.0MB/s eta 0:00:01\r\u001b[K     |██████████████▊                 | 829kB 28.0MB/s eta 0:00:01\r\u001b[K     |██████████████▉                 | 839kB 28.0MB/s eta 0:00:01\r\u001b[K     |███████████████                 | 849kB 28.0MB/s eta 0:00:01\r\u001b[K     |███████████████▎                | 860kB 28.0MB/s eta 0:00:01\r\u001b[K     |███████████████▍                | 870kB 28.0MB/s eta 0:00:01\r\u001b[K     |███████████████▋                | 880kB 28.0MB/s eta 0:00:01\r\u001b[K     |███████████████▊                | 890kB 28.0MB/s eta 0:00:01\r\u001b[K     |████████████████                | 901kB 28.0MB/s eta 0:00:01\r\u001b[K     |████████████████▏               | 911kB 28.0MB/s eta 0:00:01\r\u001b[K     |████████████████▎               | 921kB 28.0MB/s eta 0:00:01\r\u001b[K     |████████████████▌               | 931kB 28.0MB/s eta 0:00:01\r\u001b[K     |████████████████▊               | 942kB 28.0MB/s eta 0:00:01\r\u001b[K     |████████████████▉               | 952kB 28.0MB/s eta 0:00:01\r\u001b[K     |█████████████████               | 962kB 28.0MB/s eta 0:00:01\r\u001b[K     |█████████████████▏              | 972kB 28.0MB/s eta 0:00:01\r\u001b[K     |█████████████████▍              | 983kB 28.0MB/s eta 0:00:01\r\u001b[K     |█████████████████▋              | 993kB 28.0MB/s eta 0:00:01\r\u001b[K     |█████████████████▊              | 1.0MB 28.0MB/s eta 0:00:01\r\u001b[K     |██████████████████              | 1.0MB 28.0MB/s eta 0:00:01\r\u001b[K     |██████████████████▏             | 1.0MB 28.0MB/s eta 0:00:01\r\u001b[K     |██████████████████▎             | 1.0MB 28.0MB/s eta 0:00:01\r\u001b[K     |██████████████████▌             | 1.0MB 28.0MB/s eta 0:00:01\r\u001b[K     |██████████████████▊             | 1.1MB 28.0MB/s eta 0:00:01\r\u001b[K     |██████████████████▉             | 1.1MB 28.0MB/s eta 0:00:01\r\u001b[K     |███████████████████             | 1.1MB 28.0MB/s eta 0:00:01\r\u001b[K     |███████████████████▏            | 1.1MB 28.0MB/s eta 0:00:01\r\u001b[K     |███████████████████▍            | 1.1MB 28.0MB/s eta 0:00:01\r\u001b[K     |███████████████████▋            | 1.1MB 28.0MB/s eta 0:00:01\r\u001b[K     |███████████████████▊            | 1.1MB 28.0MB/s eta 0:00:01\r\u001b[K     |████████████████████            | 1.1MB 28.0MB/s eta 0:00:01\r\u001b[K     |████████████████████▏           | 1.1MB 28.0MB/s eta 0:00:01\r\u001b[K     |████████████████████▎           | 1.1MB 28.0MB/s eta 0:00:01\r\u001b[K     |████████████████████▌           | 1.2MB 28.0MB/s eta 0:00:01\r\u001b[K     |████████████████████▋           | 1.2MB 28.0MB/s eta 0:00:01\r\u001b[K     |████████████████████▉           | 1.2MB 28.0MB/s eta 0:00:01\r\u001b[K     |█████████████████████           | 1.2MB 28.0MB/s eta 0:00:01\r\u001b[K     |█████████████████████▏          | 1.2MB 28.0MB/s eta 0:00:01\r\u001b[K     |█████████████████████▍          | 1.2MB 28.0MB/s eta 0:00:01\r\u001b[K     |█████████████████████▋          | 1.2MB 28.0MB/s eta 0:00:01\r\u001b[K     |█████████████████████▊          | 1.2MB 28.0MB/s eta 0:00:01\r\u001b[K     |██████████████████████          | 1.2MB 28.0MB/s eta 0:00:01\r\u001b[K     |██████████████████████▏         | 1.2MB 28.0MB/s eta 0:00:01\r\u001b[K     |██████████████████████▎         | 1.3MB 28.0MB/s eta 0:00:01\r\u001b[K     |██████████████████████▌         | 1.3MB 28.0MB/s eta 0:00:01\r\u001b[K     |██████████████████████▋         | 1.3MB 28.0MB/s eta 0:00:01\r\u001b[K     |██████████████████████▉         | 1.3MB 28.0MB/s eta 0:00:01\r\u001b[K     |███████████████████████         | 1.3MB 28.0MB/s eta 0:00:01\r\u001b[K     |███████████████████████▏        | 1.3MB 28.0MB/s eta 0:00:01\r\u001b[K     |███████████████████████▍        | 1.3MB 28.0MB/s eta 0:00:01\r\u001b[K     |███████████████████████▋        | 1.3MB 28.0MB/s eta 0:00:01\r\u001b[K     |███████████████████████▊        | 1.3MB 28.0MB/s eta 0:00:01\r\u001b[K     |████████████████████████        | 1.4MB 28.0MB/s eta 0:00:01\r\u001b[K     |████████████████████████        | 1.4MB 28.0MB/s eta 0:00:01\r\u001b[K     |████████████████████████▎       | 1.4MB 28.0MB/s eta 0:00:01\r\u001b[K     |████████████████████████▌       | 1.4MB 28.0MB/s eta 0:00:01\r\u001b[K     |████████████████████████▋       | 1.4MB 28.0MB/s eta 0:00:01\r\u001b[K     |████████████████████████▉       | 1.4MB 28.0MB/s eta 0:00:01\r\u001b[K     |█████████████████████████       | 1.4MB 28.0MB/s eta 0:00:01\r\u001b[K     |█████████████████████████▏      | 1.4MB 28.0MB/s eta 0:00:01\r\u001b[K     |█████████████████████████▍      | 1.4MB 28.0MB/s eta 0:00:01\r\u001b[K     |█████████████████████████▋      | 1.4MB 28.0MB/s eta 0:00:01\r\u001b[K     |█████████████████████████▊      | 1.5MB 28.0MB/s eta 0:00:01\r\u001b[K     |██████████████████████████      | 1.5MB 28.0MB/s eta 0:00:01\r\u001b[K     |██████████████████████████      | 1.5MB 28.0MB/s eta 0:00:01\r\u001b[K     |██████████████████████████▎     | 1.5MB 28.0MB/s eta 0:00:01\r\u001b[K     |██████████████████████████▌     | 1.5MB 28.0MB/s eta 0:00:01\r\u001b[K     |██████████████████████████▋     | 1.5MB 28.0MB/s eta 0:00:01\r\u001b[K     |██████████████████████████▉     | 1.5MB 28.0MB/s eta 0:00:01\r\u001b[K     |███████████████████████████     | 1.5MB 28.0MB/s eta 0:00:01\r\u001b[K     |███████████████████████████▏    | 1.5MB 28.0MB/s eta 0:00:01\r\u001b[K     |███████████████████████████▍    | 1.5MB 28.0MB/s eta 0:00:01\r\u001b[K     |███████████████████████████▌    | 1.6MB 28.0MB/s eta 0:00:01\r\u001b[K     |███████████████████████████▊    | 1.6MB 28.0MB/s eta 0:00:01\r\u001b[K     |████████████████████████████    | 1.6MB 28.0MB/s eta 0:00:01\r\u001b[K     |████████████████████████████    | 1.6MB 28.0MB/s eta 0:00:01\r\u001b[K     |████████████████████████████▎   | 1.6MB 28.0MB/s eta 0:00:01\r\u001b[K     |████████████████████████████▌   | 1.6MB 28.0MB/s eta 0:00:01\r\u001b[K     |████████████████████████████▋   | 1.6MB 28.0MB/s eta 0:00:01\r\u001b[K     |████████████████████████████▉   | 1.6MB 28.0MB/s eta 0:00:01\r\u001b[K     |█████████████████████████████   | 1.6MB 28.0MB/s eta 0:00:01\r\u001b[K     |█████████████████████████████▏  | 1.6MB 28.0MB/s eta 0:00:01\r\u001b[K     |█████████████████████████████▍  | 1.7MB 28.0MB/s eta 0:00:01\r\u001b[K     |█████████████████████████████▌  | 1.7MB 28.0MB/s eta 0:00:01\r\u001b[K     |█████████████████████████████▊  | 1.7MB 28.0MB/s eta 0:00:01\r\u001b[K     |██████████████████████████████  | 1.7MB 28.0MB/s eta 0:00:01\r\u001b[K     |██████████████████████████████  | 1.7MB 28.0MB/s eta 0:00:01\r\u001b[K     |██████████████████████████████▎ | 1.7MB 28.0MB/s eta 0:00:01\r\u001b[K     |██████████████████████████████▌ | 1.7MB 28.0MB/s eta 0:00:01\r\u001b[K     |██████████████████████████████▋ | 1.7MB 28.0MB/s eta 0:00:01\r\u001b[K     |██████████████████████████████▉ | 1.7MB 28.0MB/s eta 0:00:01\r\u001b[K     |███████████████████████████████ | 1.8MB 28.0MB/s eta 0:00:01\r\u001b[K     |███████████████████████████████▏| 1.8MB 28.0MB/s eta 0:00:01\r\u001b[K     |███████████████████████████████▍| 1.8MB 28.0MB/s eta 0:00:01\r\u001b[K     |███████████████████████████████▌| 1.8MB 28.0MB/s eta 0:00:01\r\u001b[K     |███████████████████████████████▊| 1.8MB 28.0MB/s eta 0:00:01\r\u001b[K     |████████████████████████████████| 1.8MB 28.0MB/s eta 0:00:01\r\u001b[K     |████████████████████████████████| 1.8MB 28.0MB/s \n",
            "\u001b[?25hRequirement already satisfied: protobuf>=3.12.0 in /usr/local/lib/python3.7/dist-packages (from wandb) (3.12.4)\n",
            "Collecting docker-pycreds>=0.4.0\n",
            "  Downloading https://files.pythonhosted.org/packages/f5/e8/f6bd1eee09314e7e6dee49cbe2c5e22314ccdb38db16c9fc72d2fa80d054/docker_pycreds-0.4.0-py2.py3-none-any.whl\n",
            "Collecting sentry-sdk>=0.4.0\n",
            "\u001b[?25l  Downloading https://files.pythonhosted.org/packages/1c/4a/a54b254f67d8f4052338d54ebe90126f200693440a93ef76d254d581e3ec/sentry_sdk-1.1.0-py2.py3-none-any.whl (131kB)\n",
            "\u001b[K     |████████████████████████████████| 133kB 43.0MB/s \n",
            "\u001b[?25hRequirement already satisfied: PyYAML in /usr/local/lib/python3.7/dist-packages (from wandb) (3.13)\n",
            "Collecting pathtools\n",
            "  Downloading https://files.pythonhosted.org/packages/e7/7f/470d6fcdf23f9f3518f6b0b76be9df16dcc8630ad409947f8be2eb0ed13a/pathtools-0.1.2.tar.gz\n",
            "Requirement already satisfied: psutil>=5.0.0 in /usr/local/lib/python3.7/dist-packages (from wandb) (5.4.8)\n",
            "Collecting GitPython>=1.0.0\n",
            "\u001b[?25l  Downloading https://files.pythonhosted.org/packages/a6/99/98019716955ba243657daedd1de8f3a88ca1f5b75057c38e959db22fb87b/GitPython-3.1.14-py3-none-any.whl (159kB)\n",
            "\u001b[K     |████████████████████████████████| 163kB 53.4MB/s \n",
            "\u001b[?25hRequirement already satisfied: six>=1.13.0 in /usr/local/lib/python3.7/dist-packages (from wandb) (1.15.0)\n",
            "Collecting subprocess32>=3.5.3\n",
            "\u001b[?25l  Downloading https://files.pythonhosted.org/packages/32/c8/564be4d12629b912ea431f1a50eb8b3b9d00f1a0b1ceff17f266be190007/subprocess32-3.5.4.tar.gz (97kB)\n",
            "\u001b[K     |████████████████████████████████| 102kB 15.2MB/s \n",
            "\u001b[?25hCollecting shortuuid>=0.5.0\n",
            "  Downloading https://files.pythonhosted.org/packages/25/a6/2ecc1daa6a304e7f1b216f0896b26156b78e7c38e1211e9b798b4716c53d/shortuuid-1.0.1-py3-none-any.whl\n",
            "Requirement already satisfied: requests<3,>=2.0.0 in /usr/local/lib/python3.7/dist-packages (from wandb) (2.23.0)\n",
            "Requirement already satisfied: promise<3,>=2.0 in /usr/local/lib/python3.7/dist-packages (from wandb) (2.3)\n",
            "Requirement already satisfied: Click>=7.0 in /usr/local/lib/python3.7/dist-packages (from wandb) (7.1.2)\n",
            "Collecting configparser>=3.8.1\n",
            "  Downloading https://files.pythonhosted.org/packages/fd/01/ff260a18caaf4457eb028c96eeb405c4a230ca06c8ec9c1379f813caa52e/configparser-5.0.2-py3-none-any.whl\n",
            "Requirement already satisfied: python-dateutil>=2.6.1 in /usr/local/lib/python3.7/dist-packages (from wandb) (2.8.1)\n",
            "Requirement already satisfied: setuptools in /usr/local/lib/python3.7/dist-packages (from protobuf>=3.12.0->wandb) (56.1.0)\n",
            "Requirement already satisfied: certifi in /usr/local/lib/python3.7/dist-packages (from sentry-sdk>=0.4.0->wandb) (2020.12.5)\n",
            "Requirement already satisfied: urllib3>=1.10.0 in /usr/local/lib/python3.7/dist-packages (from sentry-sdk>=0.4.0->wandb) (1.24.3)\n",
            "Collecting gitdb<5,>=4.0.1\n",
            "\u001b[?25l  Downloading https://files.pythonhosted.org/packages/ea/e8/f414d1a4f0bbc668ed441f74f44c116d9816833a48bf81d22b697090dba8/gitdb-4.0.7-py3-none-any.whl (63kB)\n",
            "\u001b[K     |████████████████████████████████| 71kB 11.0MB/s \n",
            "\u001b[?25hRequirement already satisfied: chardet<4,>=3.0.2 in /usr/local/lib/python3.7/dist-packages (from requests<3,>=2.0.0->wandb) (3.0.4)\n",
            "Requirement already satisfied: idna<3,>=2.5 in /usr/local/lib/python3.7/dist-packages (from requests<3,>=2.0.0->wandb) (2.10)\n",
            "Collecting smmap<5,>=3.0.1\n",
            "  Downloading https://files.pythonhosted.org/packages/68/ee/d540eb5e5996eb81c26ceffac6ee49041d473bc5125f2aa995cf51ec1cf1/smmap-4.0.0-py2.py3-none-any.whl\n",
            "Building wheels for collected packages: pathtools, subprocess32\n",
            "  Building wheel for pathtools (setup.py) ... \u001b[?25l\u001b[?25hdone\n",
            "  Created wheel for pathtools: filename=pathtools-0.1.2-cp37-none-any.whl size=8786 sha256=47e18df1cb80f93000d0f3b2b367e74287d94a60ec229a162ad289955036205f\n",
            "  Stored in directory: /root/.cache/pip/wheels/0b/04/79/c3b0c3a0266a3cb4376da31e5bfe8bba0c489246968a68e843\n",
            "  Building wheel for subprocess32 (setup.py) ... \u001b[?25l\u001b[?25hdone\n",
            "  Created wheel for subprocess32: filename=subprocess32-3.5.4-cp37-none-any.whl size=6489 sha256=002ce82556104708cfc1ef529add5ac3e0c6d3dc4f92ae87082b712b6af88a78\n",
            "  Stored in directory: /root/.cache/pip/wheels/68/39/1a/5e402bdfdf004af1786c8b853fd92f8c4a04f22aad179654d1\n",
            "Successfully built pathtools subprocess32\n",
            "Installing collected packages: docker-pycreds, sentry-sdk, pathtools, smmap, gitdb, GitPython, subprocess32, shortuuid, configparser, wandb\n",
            "Successfully installed GitPython-3.1.14 configparser-5.0.2 docker-pycreds-0.4.0 gitdb-4.0.7 pathtools-0.1.2 sentry-sdk-1.1.0 shortuuid-1.0.1 smmap-4.0.0 subprocess32-3.5.4 wandb-0.10.30\n"
          ],
          "name": "stdout"
        }
      ]
    },
    {
      "cell_type": "code",
      "metadata": {
        "id": "SmDsRcekjEKU"
      },
      "source": [
        "from keras.datasets import imdb\n",
        "from keras.models import Sequential,Model\n",
        "from keras.layers import Dense,Concatenate,Subtract,SpatialDropout1D, LSTM, Lambda\n",
        "from keras.layers import Flatten, Input \n",
        "from keras.layers.convolutional import Conv1D,Conv2D\n",
        "from keras.layers.convolutional import MaxPooling1D\n",
        "from keras.layers.embeddings import Embedding\n",
        "from keras.preprocessing import sequence\n",
        "import copy\n",
        "import wandb\n",
        "from wandb.keras import WandbCallback\n"
      ],
      "execution_count": null,
      "outputs": []
    },
    {
      "cell_type": "code",
      "metadata": {
        "id": "mDaThrVCiQ72"
      },
      "source": [
        "import tensorflow as tf\n",
        "import numpy as np\n",
        "from tensorflow.keras.preprocessing.text import Tokenizer\n",
        "from tensorflow.keras.preprocessing.sequence import pad_sequences\n",
        "from nltk.corpus import stopwords"
      ],
      "execution_count": null,
      "outputs": []
    },
    {
      "cell_type": "code",
      "metadata": {
        "id": "WJs0CXEbi29h"
      },
      "source": [
        "input_shape=400\n",
        "MAX_NB_WORDS=len(set(attr_all))\n",
        "EMBEDDING_DIM=32"
      ],
      "execution_count": null,
      "outputs": []
    },
    {
      "cell_type": "code",
      "metadata": {
        "id": "kricu3DfduOV"
      },
      "source": [
        "df['element'].shape"
      ],
      "execution_count": null,
      "outputs": []
    },
    {
      "cell_type": "code",
      "metadata": {
        "id": "fAJzLOvedxfv"
      },
      "source": [
        "np.array(arr1).shape"
      ],
      "execution_count": null,
      "outputs": []
    },
    {
      "cell_type": "code",
      "metadata": {
        "id": "vF8VScnsirLJ"
      },
      "source": [
        "left_input = Input(input_shape, name='input_layer1')\n",
        "right_input = Input(input_shape, name='input_layer2')\n",
        "\n",
        "\n",
        "model = Sequential()\n",
        "model.add(Embedding(MAX_NB_WORDS, EMBEDDING_DIM, input_length=input_shape))\n",
        "model.add(SpatialDropout1D(0.2))\n",
        "model.add(LSTM(34, dropout=0.2, recurrent_dropout=0.2))\n",
        "model.add(Dense(2, activation='sigmoid'))\n",
        "\n",
        "\n",
        "\n",
        "dense1=model(left_input)\n",
        "dense2=model(right_input)\n",
        "merge_layer = Subtract()([dense1, dense2]) \n",
        "dense_layer = Dense(1, activation=\"relu\", name='output_layer')(merge_layer) \n",
        "\n",
        "model = Model(inputs=[left_input, right_input], outputs=dense_layer)"
      ],
      "execution_count": null,
      "outputs": []
    },
    {
      "cell_type": "code",
      "metadata": {
        "id": "ubHbWon1boI3"
      },
      "source": [
        "left_input = Input(input_shape, name='input_layer1')\n",
        "right_input = Input(input_shape,name='input_layer2' )\n",
        "\n",
        "\n",
        "model = tf.keras.Sequential([\n",
        "    \n",
        "    tf.keras.layers.Embedding(\n",
        "        input_dim=len(set(attr_all)),\n",
        "        output_dim=8,\n",
        "        # Use masking to handle the variable sequence lengths\n",
        "        mask_zero=True),\n",
        "    tf.keras.layers.Bidirectional(tf.keras.layers.LSTM(64)),\n",
        "    tf.keras.layers.Dense(64, activation='relu'),\n",
        "    tf.keras.layers.Dense(1)\n",
        "])\n",
        "\n",
        "\n",
        "\n",
        "dense1=model(left_input)\n",
        "dense2=model(right_input)\n",
        "merge_layer = Subtract()([dense1, dense2]) \n",
        "dense_layer = Dense(1, activation=\"sigmoid\", name='output_layer')(merge_layer) \n",
        "\n",
        "model = Model(inputs=[left_input, right_input], outputs=dense_layer)"
      ],
      "execution_count": null,
      "outputs": []
    },
    {
      "cell_type": "code",
      "metadata": {
        "id": "S79KzDiiKMj3"
      },
      "source": [
        "model.compile(loss='binary_crossentropy', optimizer='adamax', metrics=['accuracy'])"
      ],
      "execution_count": null,
      "outputs": []
    },
    {
      "cell_type": "code",
      "metadata": {
        "id": "8zn5yJDlaB5N"
      },
      "source": [
        "arr1=tf.keras.preprocessing.sequence.pad_sequences(arr1, maxlen=400)\n",
        "arr2=tf.keras.preprocessing.sequence.pad_sequences(arr2, maxlen=400)"
      ],
      "execution_count": null,
      "outputs": []
    },
    {
      "cell_type": "code",
      "metadata": {
        "colab": {
          "base_uri": "https://localhost:8080/"
        },
        "id": "L-ufBvb3Qql9",
        "outputId": "35a85ee8-7dc3-409b-93a6-32e81c49dd06"
      },
      "source": [
        "arr1[0]"
      ],
      "execution_count": null,
      "outputs": [
        {
          "output_type": "execute_result",
          "data": {
            "text/plain": [
              "array([    9,    70,    70,    70,    11,    19,     9,    70,    70,\n",
              "          70,    19,    11,    19,     9,    70,    70,    70,    11,\n",
              "          11,    19,     9,    70,    70,    70,  1540,     9,    70,\n",
              "          70,    70,  1555,    52,   132,    31,    62,    31,    20,\n",
              "          16,    17,   198,    19,    11,    19,     9,    70,    70,\n",
              "          70,    49,    19,   218,    19,    31,    62,    31,    20,\n",
              "          16,    17,    11,    11,     2,    11,    19,     9,    70,\n",
              "          70,    70,   132,   528,    44,     1,     1,     1,     1,\n",
              "          11,    19,    19,    11,    19,   528,    11,     9,    70,\n",
              "          70,    70,    19,    11,    44,     1,     1,     1,     1,\n",
              "          19,    47,    43,     1,     1,    49,    38,    22,    42,\n",
              "          22,     1,     2,     2,     1,     1,     2,     1,     1,\n",
              "           2,     1,     1,    24,     2, 13506,    50,    32,    92,\n",
              "          14,    50,    32,    92,   818,   132,    11, 14074,   545,\n",
              "         407,  1459,   125,   430,  1459,   125,   430,    19,    19,\n",
              "          19,    19,    19,    19,    19,    19,    19,    19,    19,\n",
              "          19,    19,    19,    19,    19,    19,    19,    19,    19,\n",
              "          19,    19,    19,    19,    19,    19,    19,    19,    19,\n",
              "          19,    19,    19,    19,   407,  1459,   125,   430,    19,\n",
              "          19,    19,    19,    19,    19,    19,    19,    19,    19,\n",
              "          19,    19,    19,    19,    19,    19,    19,    19,    19,\n",
              "          19,    19,    19,    19,    19,    19,    19,    19,    19,\n",
              "          19,    19,    19,    19,    19,    19,    19,    19,    19,\n",
              "          19,    19,    19,    19,    19,    19,    19,    19,    19,\n",
              "          19,    19,    19,    19,    19,    19,    19,    19,    19,\n",
              "          19,    19,    19,    19,    19,    19,    19,    19,    19,\n",
              "          19,    19,    19,    19,    19,    19,    19,    19,    19,\n",
              "          19,    19,    19,    19,    19,    19,    19,    19,    19,\n",
              "          19,    19,    19,    19,    19,    19,    19,    19,    19,\n",
              "          19,    19,    19,    19,    19,    19,    19,    19,    19,\n",
              "          19,    19,    19,    19,    19,    19,    19,    19,    19,\n",
              "          19,    19,    19,    19,    19,    19,    19,    19,    19,\n",
              "          19,    19,    19,    19,    19,    19,    19,    19,    19,\n",
              "          19,    19,    19,    19,    19,    19,    19,    19,    19,\n",
              "          19,    19,    19,    19,    19,    19,    19,    19,    19,\n",
              "          19,    19,    19,    19,    19,    19,    19,    19,    19,\n",
              "          19,    19,     0,     0,     0,     0,     0,     0,     0,\n",
              "           0,     0,     0,     0,     0,     0,     0,     0,     0,\n",
              "           0,     0,     0,     0,     0,     0,     0,     0,     0,\n",
              "           0,     0,     0,     0,     0,     0,     0,     0,     0,\n",
              "           0,     0,     0,     0,     0,     0,     0,     0,     0,\n",
              "           0,     0,     0,     0,     0,     0,     0,     0,     0,\n",
              "           0,     0,     0,     0,     0,     0,     0,     0,     0,\n",
              "           0,     0,     0,     0,     0,     0,     0,     0,     0,\n",
              "           0,     0,     0,     0], dtype=int32)"
            ]
          },
          "metadata": {
            "tags": []
          },
          "execution_count": 36
        }
      ]
    },
    {
      "cell_type": "code",
      "metadata": {
        "colab": {
          "base_uri": "https://localhost:8080/",
          "height": 631
        },
        "id": "wULmVb68T67N",
        "outputId": "33fa72c6-09a2-475c-da05-24923692349b"
      },
      "source": [
        "wandb.init()"
      ],
      "execution_count": null,
      "outputs": [
        {
          "output_type": "display_data",
          "data": {
            "text/html": [
              "Finishing last run (ID:2rd6jn7c) before initializing another..."
            ],
            "text/plain": [
              "<IPython.core.display.HTML object>"
            ]
          },
          "metadata": {
            "tags": []
          }
        },
        {
          "output_type": "display_data",
          "data": {
            "text/html": [
              "...Successfully finished last run (ID:2rd6jn7c). Initializing new run:<br/><br/>"
            ],
            "text/plain": [
              "<IPython.core.display.HTML object>"
            ]
          },
          "metadata": {
            "tags": []
          }
        },
        {
          "output_type": "display_data",
          "data": {
            "text/html": [
              "\n",
              "                Tracking run with wandb version 0.10.30<br/>\n",
              "                Syncing run <strong style=\"color:#cdcd00\">jumping-eon-704</strong> to <a href=\"https://wandb.ai\" target=\"_blank\">Weights & Biases</a> <a href=\"https://docs.wandb.com/integrations/jupyter.html\" target=\"_blank\">(Documentation)</a>.<br/>\n",
              "                Project page: <a href=\"https://wandb.ai/ruzya2020/uncategorized\" target=\"_blank\">https://wandb.ai/ruzya2020/uncategorized</a><br/>\n",
              "                Run page: <a href=\"https://wandb.ai/ruzya2020/uncategorized/runs/2lr3gkp5\" target=\"_blank\">https://wandb.ai/ruzya2020/uncategorized/runs/2lr3gkp5</a><br/>\n",
              "                Run data is saved locally in <code>/content/wandb/run-20210512_192506-2lr3gkp5</code><br/><br/>\n",
              "            "
            ],
            "text/plain": [
              "<IPython.core.display.HTML object>"
            ]
          },
          "metadata": {
            "tags": []
          }
        },
        {
          "output_type": "execute_result",
          "data": {
            "text/plain": [
              "<wandb.sdk.wandb_run.Run at 0x7f97fea28d10>"
            ],
            "text/html": [
              "<h1>Run(2lr3gkp5)</h1><iframe src=\"https://wandb.ai/ruzya2020/uncategorized/runs/2lr3gkp5\" style=\"border:none;width:100%;height:400px\"></iframe>"
            ]
          },
          "metadata": {
            "tags": []
          },
          "execution_count": 93
        }
      ]
    },
    {
      "cell_type": "code",
      "metadata": {
        "colab": {
          "base_uri": "https://localhost:8080/"
        },
        "id": "B8AyIv6lXKO3",
        "outputId": "d99a63f9-a98b-44f9-d1c1-577a1ca34093"
      },
      "source": [
        "\n",
        "size=10000\n",
        "model.fit([tf.convert_to_tensor(arr1[:size]),tf.convert_to_tensor(arr2[:size])],np.array(df_edir['prediction'][:size]), batch_size=30, epochs=100, callbacks=[WandbCallback()], validation_data=([arr1[size:],arr2[size:]],np.array(df_edir['prediction'][size:])))"
      ],
      "execution_count": null,
      "outputs": [
        {
          "output_type": "stream",
          "text": [
            "Epoch 1/100\n",
            "334/334 [==============================] - 23s 69ms/step - loss: 0.0046 - accuracy: 0.9987 - val_loss: 0.4010 - val_accuracy: 0.9827\n",
            "Epoch 2/100\n",
            "334/334 [==============================] - 23s 69ms/step - loss: 0.0054 - accuracy: 0.9985 - val_loss: 0.2060 - val_accuracy: 0.9823\n",
            "Epoch 3/100\n",
            "334/334 [==============================] - 23s 68ms/step - loss: 0.0045 - accuracy: 0.9989 - val_loss: 0.2566 - val_accuracy: 0.9820\n",
            "Epoch 4/100\n",
            "334/334 [==============================] - 23s 69ms/step - loss: 0.0049 - accuracy: 0.9987 - val_loss: 0.2454 - val_accuracy: 0.9832\n",
            "Epoch 5/100\n",
            "334/334 [==============================] - 23s 69ms/step - loss: 0.0080 - accuracy: 0.9979 - val_loss: 0.2997 - val_accuracy: 0.9835\n",
            "Epoch 6/100\n",
            "334/334 [==============================] - 23s 68ms/step - loss: 0.0046 - accuracy: 0.9987 - val_loss: 0.2529 - val_accuracy: 0.9832\n",
            "Epoch 7/100\n",
            "334/334 [==============================] - 23s 69ms/step - loss: 0.0044 - accuracy: 0.9988 - val_loss: 0.3376 - val_accuracy: 0.9831\n",
            "Epoch 8/100\n",
            "334/334 [==============================] - 23s 69ms/step - loss: 0.0048 - accuracy: 0.9985 - val_loss: 0.3193 - val_accuracy: 0.9823\n",
            "Epoch 9/100\n",
            "334/334 [==============================] - 23s 69ms/step - loss: 0.0047 - accuracy: 0.9983 - val_loss: 0.2979 - val_accuracy: 0.9838\n",
            "Epoch 10/100\n",
            "334/334 [==============================] - 23s 69ms/step - loss: 0.0050 - accuracy: 0.9988 - val_loss: 0.2846 - val_accuracy: 0.9831\n",
            "Epoch 11/100\n",
            "334/334 [==============================] - 23s 69ms/step - loss: 0.0046 - accuracy: 0.9988 - val_loss: 0.4210 - val_accuracy: 0.9820\n",
            "Epoch 12/100\n",
            "334/334 [==============================] - 23s 68ms/step - loss: 0.0050 - accuracy: 0.9987 - val_loss: 0.2582 - val_accuracy: 0.9827\n",
            "Epoch 13/100\n",
            "334/334 [==============================] - 23s 69ms/step - loss: 0.0046 - accuracy: 0.9989 - val_loss: 0.3737 - val_accuracy: 0.9818\n",
            "Epoch 14/100\n",
            "334/334 [==============================] - 23s 69ms/step - loss: 0.0051 - accuracy: 0.9985 - val_loss: 0.2777 - val_accuracy: 0.9834\n",
            "Epoch 15/100\n",
            "334/334 [==============================] - 23s 69ms/step - loss: 0.0048 - accuracy: 0.9987 - val_loss: 0.3823 - val_accuracy: 0.9834\n",
            "Epoch 16/100\n",
            "334/334 [==============================] - 23s 69ms/step - loss: 0.0047 - accuracy: 0.9987 - val_loss: 0.2060 - val_accuracy: 0.9831\n",
            "Epoch 17/100\n",
            "334/334 [==============================] - 23s 69ms/step - loss: 0.0046 - accuracy: 0.9986 - val_loss: 0.3755 - val_accuracy: 0.9831\n",
            "Epoch 18/100\n",
            "334/334 [==============================] - 23s 69ms/step - loss: 0.0050 - accuracy: 0.9987 - val_loss: 0.3136 - val_accuracy: 0.9831\n",
            "Epoch 19/100\n",
            "334/334 [==============================] - 23s 69ms/step - loss: 0.0046 - accuracy: 0.9988 - val_loss: 0.2162 - val_accuracy: 0.9831\n",
            "Epoch 20/100\n",
            "334/334 [==============================] - 23s 69ms/step - loss: 0.0049 - accuracy: 0.9987 - val_loss: 0.2855 - val_accuracy: 0.9832\n",
            "Epoch 21/100\n",
            "334/334 [==============================] - 23s 69ms/step - loss: 0.0047 - accuracy: 0.9985 - val_loss: 0.4980 - val_accuracy: 0.9823\n",
            "Epoch 22/100\n",
            "334/334 [==============================] - 23s 69ms/step - loss: 0.0047 - accuracy: 0.9987 - val_loss: 0.3355 - val_accuracy: 0.9834\n",
            "Epoch 23/100\n",
            "334/334 [==============================] - 23s 68ms/step - loss: 0.0045 - accuracy: 0.9989 - val_loss: 0.2486 - val_accuracy: 0.9835\n",
            "Epoch 24/100\n",
            "334/334 [==============================] - 23s 68ms/step - loss: 0.0047 - accuracy: 0.9988 - val_loss: 0.2935 - val_accuracy: 0.9837\n",
            "Epoch 25/100\n",
            "334/334 [==============================] - 23s 68ms/step - loss: 0.0043 - accuracy: 0.9988 - val_loss: 0.2260 - val_accuracy: 0.9831\n",
            "Epoch 26/100\n",
            "334/334 [==============================] - 22s 67ms/step - loss: 0.0044 - accuracy: 0.9987 - val_loss: 0.5200 - val_accuracy: 0.9821\n",
            "Epoch 27/100\n",
            "334/334 [==============================] - 23s 68ms/step - loss: 0.0050 - accuracy: 0.9985 - val_loss: 0.2113 - val_accuracy: 0.9831\n",
            "Epoch 28/100\n",
            "334/334 [==============================] - 23s 68ms/step - loss: 0.0046 - accuracy: 0.9986 - val_loss: 0.4361 - val_accuracy: 0.9827\n",
            "Epoch 29/100\n",
            "334/334 [==============================] - 23s 67ms/step - loss: 0.0047 - accuracy: 0.9987 - val_loss: 0.2483 - val_accuracy: 0.9824\n",
            "Epoch 30/100\n",
            "334/334 [==============================] - 23s 68ms/step - loss: 0.0045 - accuracy: 0.9987 - val_loss: 0.2475 - val_accuracy: 0.9823\n",
            "Epoch 31/100\n",
            "334/334 [==============================] - 23s 68ms/step - loss: 0.0047 - accuracy: 0.9986 - val_loss: 0.2776 - val_accuracy: 0.9824\n",
            "Epoch 32/100\n",
            "334/334 [==============================] - 23s 68ms/step - loss: 0.0057 - accuracy: 0.9986 - val_loss: 0.2279 - val_accuracy: 0.9827\n",
            "Epoch 33/100\n",
            "334/334 [==============================] - 22s 67ms/step - loss: 0.0046 - accuracy: 0.9986 - val_loss: 0.2826 - val_accuracy: 0.9821\n",
            "Epoch 34/100\n",
            "334/334 [==============================] - 23s 67ms/step - loss: 0.0048 - accuracy: 0.9988 - val_loss: 0.3150 - val_accuracy: 0.9821\n",
            "Epoch 35/100\n",
            "334/334 [==============================] - 23s 68ms/step - loss: 0.0046 - accuracy: 0.9986 - val_loss: 0.2736 - val_accuracy: 0.9826\n",
            "Epoch 36/100\n",
            "334/334 [==============================] - 23s 68ms/step - loss: 0.0045 - accuracy: 0.9989 - val_loss: 0.2512 - val_accuracy: 0.9823\n",
            "Epoch 37/100\n",
            "334/334 [==============================] - 23s 68ms/step - loss: 0.0047 - accuracy: 0.9988 - val_loss: 0.2363 - val_accuracy: 0.9818\n",
            "Epoch 38/100\n",
            "334/334 [==============================] - 23s 68ms/step - loss: 0.0045 - accuracy: 0.9988 - val_loss: 0.4292 - val_accuracy: 0.9824\n",
            "Epoch 39/100\n",
            "334/334 [==============================] - 23s 68ms/step - loss: 0.0047 - accuracy: 0.9987 - val_loss: 0.4894 - val_accuracy: 0.9834\n",
            "Epoch 40/100\n",
            "334/334 [==============================] - 23s 68ms/step - loss: 0.0058 - accuracy: 0.9986 - val_loss: 0.3048 - val_accuracy: 0.9834\n",
            "Epoch 41/100\n",
            "334/334 [==============================] - 23s 68ms/step - loss: 0.0046 - accuracy: 0.9989 - val_loss: 0.3267 - val_accuracy: 0.9835\n",
            "Epoch 42/100\n",
            "334/334 [==============================] - 23s 68ms/step - loss: 0.0044 - accuracy: 0.9990 - val_loss: 0.1881 - val_accuracy: 0.9834\n",
            "Epoch 43/100\n",
            "334/334 [==============================] - 23s 68ms/step - loss: 0.0046 - accuracy: 0.9988 - val_loss: 0.3259 - val_accuracy: 0.9824\n",
            "Epoch 44/100\n",
            "334/334 [==============================] - 23s 68ms/step - loss: 0.0049 - accuracy: 0.9987 - val_loss: 0.4108 - val_accuracy: 0.9827\n",
            "Epoch 45/100\n",
            "334/334 [==============================] - 23s 68ms/step - loss: 0.0044 - accuracy: 0.9988 - val_loss: 0.3004 - val_accuracy: 0.9837\n",
            "Epoch 46/100\n",
            "334/334 [==============================] - 23s 68ms/step - loss: 0.0052 - accuracy: 0.9986 - val_loss: 0.4035 - val_accuracy: 0.9827\n",
            "Epoch 47/100\n",
            "334/334 [==============================] - 23s 68ms/step - loss: 0.0047 - accuracy: 0.9989 - val_loss: 0.1994 - val_accuracy: 0.9826\n",
            "Epoch 48/100\n",
            "334/334 [==============================] - 23s 68ms/step - loss: 0.0046 - accuracy: 0.9988 - val_loss: 0.3469 - val_accuracy: 0.9827\n",
            "Epoch 49/100\n",
            "334/334 [==============================] - 23s 69ms/step - loss: 0.0048 - accuracy: 0.9987 - val_loss: 0.2417 - val_accuracy: 0.9823\n",
            "Epoch 50/100\n",
            "334/334 [==============================] - 23s 69ms/step - loss: 0.0045 - accuracy: 0.9985 - val_loss: 0.2801 - val_accuracy: 0.9832\n",
            "Epoch 51/100\n",
            "334/334 [==============================] - 23s 68ms/step - loss: 0.0048 - accuracy: 0.9985 - val_loss: 0.3391 - val_accuracy: 0.9827\n",
            "Epoch 52/100\n",
            "334/334 [==============================] - 23s 68ms/step - loss: 0.0049 - accuracy: 0.9988 - val_loss: 0.2615 - val_accuracy: 0.9829\n",
            "Epoch 53/100\n",
            "334/334 [==============================] - 23s 68ms/step - loss: 0.0050 - accuracy: 0.9988 - val_loss: 0.3043 - val_accuracy: 0.9824\n",
            "Epoch 54/100\n",
            "334/334 [==============================] - 23s 68ms/step - loss: 0.0046 - accuracy: 0.9988 - val_loss: 0.2713 - val_accuracy: 0.9823\n",
            "Epoch 55/100\n",
            "334/334 [==============================] - 23s 68ms/step - loss: 0.0045 - accuracy: 0.9984 - val_loss: 0.3618 - val_accuracy: 0.9826\n",
            "Epoch 56/100\n",
            "334/334 [==============================] - 23s 68ms/step - loss: 0.0047 - accuracy: 0.9986 - val_loss: 0.2619 - val_accuracy: 0.9834\n",
            "Epoch 57/100\n",
            "334/334 [==============================] - 23s 68ms/step - loss: 0.0043 - accuracy: 0.9990 - val_loss: 0.1985 - val_accuracy: 0.9820\n",
            "Epoch 58/100\n",
            "334/334 [==============================] - 23s 68ms/step - loss: 0.0048 - accuracy: 0.9986 - val_loss: 0.2956 - val_accuracy: 0.9843\n",
            "Epoch 59/100\n",
            "334/334 [==============================] - 23s 68ms/step - loss: 0.0048 - accuracy: 0.9988 - val_loss: 0.2628 - val_accuracy: 0.9831\n",
            "Epoch 60/100\n",
            "334/334 [==============================] - 23s 68ms/step - loss: 0.0050 - accuracy: 0.9982 - val_loss: 0.3824 - val_accuracy: 0.9831\n",
            "Epoch 61/100\n",
            "334/334 [==============================] - 23s 69ms/step - loss: 0.0043 - accuracy: 0.9987 - val_loss: 0.3770 - val_accuracy: 0.9832\n",
            "Epoch 62/100\n",
            "334/334 [==============================] - 23s 69ms/step - loss: 0.0047 - accuracy: 0.9985 - val_loss: 0.4254 - val_accuracy: 0.9824\n",
            "Epoch 63/100\n",
            "334/334 [==============================] - 23s 70ms/step - loss: 0.0049 - accuracy: 0.9986 - val_loss: 0.3192 - val_accuracy: 0.9835\n",
            "Epoch 64/100\n",
            "334/334 [==============================] - 23s 70ms/step - loss: 0.0046 - accuracy: 0.9986 - val_loss: 0.3375 - val_accuracy: 0.9831\n",
            "Epoch 65/100\n",
            "334/334 [==============================] - 24s 71ms/step - loss: 0.0047 - accuracy: 0.9987 - val_loss: 0.3980 - val_accuracy: 0.9823\n",
            "Epoch 66/100\n",
            "334/334 [==============================] - 23s 70ms/step - loss: 0.0048 - accuracy: 0.9986 - val_loss: 0.3386 - val_accuracy: 0.9818\n",
            "Epoch 67/100\n",
            "334/334 [==============================] - 24s 71ms/step - loss: 0.0047 - accuracy: 0.9989 - val_loss: 0.2535 - val_accuracy: 0.9823\n",
            "Epoch 68/100\n",
            "334/334 [==============================] - 24s 70ms/step - loss: 0.0048 - accuracy: 0.9985 - val_loss: 0.3095 - val_accuracy: 0.9821\n",
            "Epoch 69/100\n",
            "334/334 [==============================] - 23s 70ms/step - loss: 0.0047 - accuracy: 0.9987 - val_loss: 0.3188 - val_accuracy: 0.9835\n",
            "Epoch 70/100\n",
            "213/334 [==================>...........] - ETA: 6s - loss: 0.0051 - accuracy: 0.9989"
          ],
          "name": "stdout"
        }
      ]
    },
    {
      "cell_type": "code",
      "metadata": {
        "id": "KSnJVUsLQfUU",
        "colab": {
          "base_uri": "https://localhost:8080/",
          "height": 232
        },
        "outputId": "8e6d2b2b-911b-4c3b-ef36-251e00e7a5b4"
      },
      "source": [
        "arr=np.array([\n",
        "    \n",
        "20.0,\n",
        "    1.0,\n",
        "    21.0,\n",
        "    24.0,\n",
        "    4.0,\n",
        "    5.0,\n",
        "    29.0,\n",
        "    1.0,\n",
        "    10.0,\n",
        "    1.0,\n",
        "    10.0,\n",
        "    1.0,\n",
        "    9.0,\n",
        "    1.0,\n",
        "    25.0,\n",
        "    1.0,\n",
        "    27.0,\n",
        "    1.0,\n",
        "    30.0,\n",
        "    1.0,\n",
        "    8.0,\n",
        "    1.0,\n",
        "    8.0,\n",
        "    1.0,\n",
        "    7.0,\n",
        "    1.0,\n",
        "    22.0,\n",
        "    1.0,\n",
        "    26.0,\n",
        "    1.0,\n",
        "    23.0,\n",
        "    29.0,\n",
        "    1.0,\n",
        "    10.0,\n",
        "    1.0,\n",
        "    10.0,\n",
        "    1.0,\n",
        "    9.0,\n",
        "    25.0,\n",
        "    28.0,\n",
        "    1.0,\n",
        "    10.0,\n",
        "    1.0,\n",
        "    9.0,\n",
        "    12.0,\n",
        "    1.0,\n",
        "    2.0,\n",
        "    6.0,\n",
        "    1.0,\n",
        "    19.0,\n",
        "    1.0,\n",
        "    18.0,\n",
        "    1.0,\n",
        "    3.0,\n",
        "    2.0,\n",
        "    6.0,\n",
        "    1.0,\n",
        "    19.0,\n",
        "    1.0,\n",
        "    18.0,\n",
        "    1.0,\n",
        "    3.0,\n",
        "    31.0,\n",
        "    25.0,\n",
        "    25.0,\n",
        "    16.0,\n",
        "    17.0,\n",
        "    15.0,\n",
        "    17.0,\n",
        "    28.0,\n",
        "    1.0,\n",
        "    10.0,\n",
        "    1.0,\n",
        "    9.0,\n",
        "    11.0,\n",
        "    1.0,\n",
        "    25.0,\n",
        "    1.0,\n",
        "    28.0,\n",
        "    1.0,\n",
        "    10.0,\n",
        "    1.0,\n",
        "    9.0,\n",
        "    11.0,\n",
        "    1.0,\n",
        "    25.0,\n",
        "    1.0,\n",
        "    28.0,\n",
        "    1.0,\n",
        "    10.0,\n",
        "    1.0,\n",
        "    9.0,\n",
        "    11.0,\n",
        "    1.0,\n",
        "    25.0,\n",
        "    1.0,\n",
        "    28.0,\n",
        "    1.0,\n",
        "    10.0,\n",
        "    1.0,\n",
        "    9.0,\n",
        "    11.0,\n",
        "    1.0,\n",
        "    25.0,\n",
        "    1.0,\n",
        "    28.0,\n",
        "    1.0,\n",
        "    10.0,\n",
        "    1.0,\n",
        "    9.0,\n",
        "    11.0,\n",
        "    11.0,\n",
        "    14.0,\n",
        "    25.0,\n",
        "    13.0,\n",
        "    25.0,\n",
        "    14.0,\n",
        "    0.0,\n",
        "    0.0,\n",
        "    0.0,\n",
        "    0.0,\n",
        "    0.0,\n",
        "    0.0,\n",
        "    0.0,\n",
        "    0.0,\n",
        "    0.0,\n",
        "    0.0,\n",
        "    0.0,\n",
        "    0.0,\n",
        "    0.0,\n",
        "    0.0,\n",
        "    0.0,\n",
        "    0.0,\n",
        "    0.0,\n",
        "    0.0,\n",
        "    0.0,\n",
        "    0.0,\n",
        "    0.0,\n",
        "    0.0,\n",
        "    0.0,\n",
        "    0.0,\n",
        "    0.0,\n",
        "    0.0,\n",
        "    0.0,\n",
        "    0.0,\n",
        "    0.0,\n",
        "    0.0,\n",
        "    0.0,\n",
        "    0.0,\n",
        "    0.0,\n",
        "    0.0,\n",
        "    0.0,\n",
        "    0.0,\n",
        "    0.0,\n",
        "    0.0,\n",
        "    0.0,\n",
        "    0.0,\n",
        "    0.0,\n",
        "    0.0,\n",
        "    0.0,\n",
        "    0.0,\n",
        "    0.0,\n",
        "    0.0,\n",
        "    0.0,\n",
        "    0.0,\n",
        "    0.0,\n",
        "    0.0,\n",
        "    0.0,\n",
        "    0.0,\n",
        "    0.0,\n",
        "    0.0,\n",
        "    0.0,\n",
        "    0.0,\n",
        "    0.0,\n",
        "    0.0,\n",
        "    0.0,\n",
        "    0.0,\n",
        "    0.0,\n",
        "    0.0,\n",
        "    0.0,\n",
        "    0.0,\n",
        "    0.0,\n",
        "    0.0,\n",
        "    0.0,\n",
        "    0.0,\n",
        "    0.0,\n",
        "    0.0,\n",
        "    0.0,\n",
        "    0.0,\n",
        "    0.0,\n",
        "    0.0,\n",
        "    0.0,\n",
        "    0.0,\n",
        "    0.0,\n",
        "    0.0,\n",
        "    0.0,\n",
        "    0.0,\n",
        "    0.0,\n",
        "    0.0,\n",
        "    0.0,\n",
        "    0.0,\n",
        "    0.0,\n",
        "    0.0,\n",
        "    0.0,\n",
        "    0.0,\n",
        "    0.0,\n",
        "    0.0,\n",
        "    0.0,\n",
        "    0.0,\n",
        "    0.0,\n",
        "    0.0,\n",
        "    0.0,\n",
        "    0.0,\n",
        "    0.0,\n",
        "    0.0,\n",
        "    0.0,\n",
        "    0.0,\n",
        "    0.0,\n",
        "    0.0,\n",
        "    0.0,\n",
        "    0.0,\n",
        "    0.0,\n",
        "    0.0,\n",
        "    0.0,\n",
        "    0.0,\n",
        "    0.0,\n",
        "    0.0,\n",
        "    0.0,\n",
        "    0.0,\n",
        "    0.0,\n",
        "    0.0,\n",
        "    0.0,\n",
        "    0.0,\n",
        "    0.0,\n",
        "    0.0,\n",
        "    0.0,\n",
        "    0.0,\n",
        "    0.0,\n",
        "    0.0,\n",
        "    0.0,\n",
        "    0.0,\n",
        "    0.0,\n",
        "    0.0,\n",
        "    0.0,\n",
        "    0.0,\n",
        "    0.0,\n",
        "    0.0,\n",
        "    0.0,\n",
        "    0.0,\n",
        "    0.0,\n",
        "    0.0,\n",
        "    0.0,\n",
        "    0.0,\n",
        "    0.0,\n",
        "    0.0,\n",
        "    0.0,\n",
        "    0.0,\n",
        "    0.0,\n",
        "    0.0,\n",
        "    0.0,\n",
        "    0.0,\n",
        "    0.0,\n",
        "    0.0,\n",
        "    0.0,\n",
        "    0.0,\n",
        "    0.0,\n",
        "    0.0,\n",
        "    0.0,\n",
        "    0.0,\n",
        "    0.0,\n",
        "    0.0,\n",
        "    0.0,\n",
        "    0.0,\n",
        "    0.0,\n",
        "    0.0,\n",
        "    0.0,\n",
        "    0.0,\n",
        "    0.0,\n",
        "    0.0,\n",
        "    0.0,\n",
        "    0.0,\n",
        "    0.0,\n",
        "    0.0,\n",
        "    0.0,\n",
        "    0.0,\n",
        "    0.0,\n",
        "    0.0,\n",
        "    0.0,\n",
        "    0.0,\n",
        "    0.0,\n",
        "    0.0,\n",
        "    0.0,\n",
        "    0.0,\n",
        "    0.0,\n",
        "    0.0,\n",
        "    0.0,\n",
        "    0.0,\n",
        "    0.0,\n",
        "    0.0,\n",
        "    0.0,\n",
        "    0.0,\n",
        "    0.0,\n",
        "    0.0,\n",
        "    0.0,\n",
        "    0.0,\n",
        "    0.0,\n",
        "    0.0,\n",
        "    0.0,\n",
        "    0.0,\n",
        "    0.0,\n",
        "    0.0,\n",
        "    0.0,\n",
        "    0.0,\n",
        "    0.0,\n",
        "    0.0,\n",
        "    0.0,\n",
        "    0.0,\n",
        "    0.0,\n",
        "    0.0,\n",
        "    0.0,\n",
        "    0.0,\n",
        "    0.0,\n",
        "    0.0,\n",
        "    0.0,\n",
        "    0.0,\n",
        "    0.0,\n",
        "    0.0,\n",
        "    0.0,\n",
        "    0.0,\n",
        "    0.0,\n",
        "    0.0,\n",
        "    0.0,\n",
        "    0.0,\n",
        "    0.0,\n",
        "    0.0,\n",
        "    0.0,\n",
        "    0.0,\n",
        "    0.0,\n",
        "    0.0,\n",
        "    0.0,\n",
        "    0.0,\n",
        "    0.0,\n",
        "    0.0,\n",
        "    0.0,\n",
        "    0.0,\n",
        "    0.0,\n",
        "    0.0,\n",
        "    0.0,\n",
        "    0.0,\n",
        "    0.0,\n",
        "    0.0,\n",
        "    0.0,\n",
        "    0.0,\n",
        "    0.0,\n",
        "    0.0,\n",
        "    0.0,\n",
        "    0.0,\n",
        "    0.0,\n",
        "    0.0,\n",
        "    0.0,\n",
        "    0.0,\n",
        "    0.0,\n",
        "    0.0,\n",
        "    0.0,\n",
        "    0.0,\n",
        "    0.0,\n",
        "    0.0,\n",
        "    0.0,\n",
        "    0.0,\n",
        "    0.0,\n",
        "    0.0,\n",
        "    0.0,\n",
        "    0.0,\n",
        "    0.0,\n",
        "    0.0,\n",
        "    0.0,\n",
        "    0.0,\n",
        "    0.0,\n",
        "    0.0,\n",
        "    0.0,\n",
        "    0.0,\n",
        "    0.0,\n",
        "    0.0,\n",
        "    0.0,\n",
        "    0.0,\n",
        "    0.0,\n",
        "    0.0,\n",
        "    0.0,\n",
        "    0.0,\n",
        "    0.0,\n",
        "    0.0,\n",
        "    0.0,\n",
        "    0.0,\n",
        "    0.0,\n",
        "    0.0,\n",
        "    0.0,\n",
        "    0.0,\n",
        "    0.0,\n",
        "    0.0,\n",
        "    0.0,\n",
        "])"
      ],
      "execution_count": null,
      "outputs": [
        {
          "output_type": "error",
          "ename": "NameError",
          "evalue": "ignored",
          "traceback": [
            "\u001b[0;31m---------------------------------------------------------------------------\u001b[0m",
            "\u001b[0;31mNameError\u001b[0m                                 Traceback (most recent call last)",
            "\u001b[0;32m<ipython-input-1-8df70c31f7fd>\u001b[0m in \u001b[0;36m<module>\u001b[0;34m()\u001b[0m\n\u001b[0;32m----> 1\u001b[0;31m arr=np.array([\n\u001b[0m\u001b[1;32m      2\u001b[0m \u001b[0;34m\u001b[0m\u001b[0m\n\u001b[1;32m      3\u001b[0m \u001b[0;36m20.0\u001b[0m\u001b[0;34m,\u001b[0m\u001b[0;34m\u001b[0m\u001b[0;34m\u001b[0m\u001b[0m\n\u001b[1;32m      4\u001b[0m     \u001b[0;36m1.0\u001b[0m\u001b[0;34m,\u001b[0m\u001b[0;34m\u001b[0m\u001b[0;34m\u001b[0m\u001b[0m\n\u001b[1;32m      5\u001b[0m     \u001b[0;36m21.0\u001b[0m\u001b[0;34m,\u001b[0m\u001b[0;34m\u001b[0m\u001b[0;34m\u001b[0m\u001b[0m\n",
            "\u001b[0;31mNameError\u001b[0m: name 'np' is not defined"
          ]
        }
      ]
    },
    {
      "cell_type": "code",
      "metadata": {
        "id": "6uICCfD6QjHB"
      },
      "source": [
        "arrn=np.array([arr,arr])"
      ],
      "execution_count": null,
      "outputs": []
    },
    {
      "cell_type": "code",
      "metadata": {
        "colab": {
          "base_uri": "https://localhost:8080/",
          "height": 804
        },
        "id": "DQCCttZEQmiG",
        "outputId": "bf84c07a-06a7-4a41-eebd-56aeb0569acd"
      },
      "source": [
        "model.predict([[arrn,arrn]])"
      ],
      "execution_count": null,
      "outputs": [
        {
          "output_type": "stream",
          "text": [
            "Error in callback <bound method _WandbInit._resume_backend of <wandb.sdk.wandb_init._WandbInit object at 0x7f97664e4110>> (for pre_run_cell):\n"
          ],
          "name": "stdout"
        },
        {
          "output_type": "error",
          "ename": "Exception",
          "evalue": "ignored",
          "traceback": [
            "\u001b[0;31m---------------------------------------------------------------------------\u001b[0m",
            "\u001b[0;31mException\u001b[0m                                 Traceback (most recent call last)",
            "\u001b[0;32m/usr/local/lib/python3.7/dist-packages/wandb/sdk/wandb_init.py\u001b[0m in \u001b[0;36m_resume_backend\u001b[0;34m(self)\u001b[0m\n\u001b[1;32m    257\u001b[0m         \u001b[0;32mif\u001b[0m \u001b[0mself\u001b[0m\u001b[0;34m.\u001b[0m\u001b[0mbackend\u001b[0m \u001b[0;32mis\u001b[0m \u001b[0;32mnot\u001b[0m \u001b[0;32mNone\u001b[0m\u001b[0;34m:\u001b[0m\u001b[0;34m\u001b[0m\u001b[0;34m\u001b[0m\u001b[0m\n\u001b[1;32m    258\u001b[0m             \u001b[0mlogger\u001b[0m\u001b[0;34m.\u001b[0m\u001b[0minfo\u001b[0m\u001b[0;34m(\u001b[0m\u001b[0;34m\"resuming backend\"\u001b[0m\u001b[0;34m)\u001b[0m\u001b[0;34m\u001b[0m\u001b[0;34m\u001b[0m\u001b[0m\n\u001b[0;32m--> 259\u001b[0;31m             \u001b[0mself\u001b[0m\u001b[0;34m.\u001b[0m\u001b[0mbackend\u001b[0m\u001b[0;34m.\u001b[0m\u001b[0minterface\u001b[0m\u001b[0;34m.\u001b[0m\u001b[0mpublish_resume\u001b[0m\u001b[0;34m(\u001b[0m\u001b[0;34m)\u001b[0m\u001b[0;34m\u001b[0m\u001b[0;34m\u001b[0m\u001b[0m\n\u001b[0m\u001b[1;32m    260\u001b[0m \u001b[0;34m\u001b[0m\u001b[0m\n\u001b[1;32m    261\u001b[0m     \u001b[0;32mdef\u001b[0m \u001b[0m_jupyter_teardown\u001b[0m\u001b[0;34m(\u001b[0m\u001b[0mself\u001b[0m\u001b[0;34m)\u001b[0m\u001b[0;34m:\u001b[0m\u001b[0;34m\u001b[0m\u001b[0;34m\u001b[0m\u001b[0m\n",
            "\u001b[0;32m/usr/local/lib/python3.7/dist-packages/wandb/sdk/interface/interface.py\u001b[0m in \u001b[0;36mpublish_resume\u001b[0;34m(self)\u001b[0m\n\u001b[1;32m    595\u001b[0m         \u001b[0mresume\u001b[0m \u001b[0;34m=\u001b[0m \u001b[0mpb\u001b[0m\u001b[0;34m.\u001b[0m\u001b[0mResumeRequest\u001b[0m\u001b[0;34m(\u001b[0m\u001b[0;34m)\u001b[0m\u001b[0;34m\u001b[0m\u001b[0;34m\u001b[0m\u001b[0m\n\u001b[1;32m    596\u001b[0m         \u001b[0mrec\u001b[0m \u001b[0;34m=\u001b[0m \u001b[0mself\u001b[0m\u001b[0;34m.\u001b[0m\u001b[0m_make_request\u001b[0m\u001b[0;34m(\u001b[0m\u001b[0mresume\u001b[0m\u001b[0;34m=\u001b[0m\u001b[0mresume\u001b[0m\u001b[0;34m)\u001b[0m\u001b[0;34m\u001b[0m\u001b[0;34m\u001b[0m\u001b[0m\n\u001b[0;32m--> 597\u001b[0;31m         \u001b[0mself\u001b[0m\u001b[0;34m.\u001b[0m\u001b[0m_publish\u001b[0m\u001b[0;34m(\u001b[0m\u001b[0mrec\u001b[0m\u001b[0;34m)\u001b[0m\u001b[0;34m\u001b[0m\u001b[0;34m\u001b[0m\u001b[0m\n\u001b[0m\u001b[1;32m    598\u001b[0m \u001b[0;34m\u001b[0m\u001b[0m\n\u001b[1;32m    599\u001b[0m     \u001b[0;32mdef\u001b[0m \u001b[0m_publish_run\u001b[0m\u001b[0;34m(\u001b[0m\u001b[0mself\u001b[0m\u001b[0;34m,\u001b[0m \u001b[0mrun\u001b[0m\u001b[0;34m:\u001b[0m \u001b[0mpb\u001b[0m\u001b[0;34m.\u001b[0m\u001b[0mRunRecord\u001b[0m\u001b[0;34m)\u001b[0m \u001b[0;34m->\u001b[0m \u001b[0;32mNone\u001b[0m\u001b[0;34m:\u001b[0m\u001b[0;34m\u001b[0m\u001b[0;34m\u001b[0m\u001b[0m\n",
            "\u001b[0;32m/usr/local/lib/python3.7/dist-packages/wandb/sdk/interface/interface.py\u001b[0m in \u001b[0;36m_publish\u001b[0;34m(self, record, local)\u001b[0m\n\u001b[1;32m    526\u001b[0m     \u001b[0;32mdef\u001b[0m \u001b[0m_publish\u001b[0m\u001b[0;34m(\u001b[0m\u001b[0mself\u001b[0m\u001b[0;34m,\u001b[0m \u001b[0mrecord\u001b[0m\u001b[0;34m:\u001b[0m \u001b[0mpb\u001b[0m\u001b[0;34m.\u001b[0m\u001b[0mRecord\u001b[0m\u001b[0;34m,\u001b[0m \u001b[0mlocal\u001b[0m\u001b[0;34m:\u001b[0m \u001b[0mbool\u001b[0m \u001b[0;34m=\u001b[0m \u001b[0;32mNone\u001b[0m\u001b[0;34m)\u001b[0m \u001b[0;34m->\u001b[0m \u001b[0;32mNone\u001b[0m\u001b[0;34m:\u001b[0m\u001b[0;34m\u001b[0m\u001b[0;34m\u001b[0m\u001b[0m\n\u001b[1;32m    527\u001b[0m         \u001b[0;32mif\u001b[0m \u001b[0mself\u001b[0m\u001b[0;34m.\u001b[0m\u001b[0m_process\u001b[0m \u001b[0;32mand\u001b[0m \u001b[0;32mnot\u001b[0m \u001b[0mself\u001b[0m\u001b[0;34m.\u001b[0m\u001b[0m_process\u001b[0m\u001b[0;34m.\u001b[0m\u001b[0mis_alive\u001b[0m\u001b[0;34m(\u001b[0m\u001b[0;34m)\u001b[0m\u001b[0;34m:\u001b[0m\u001b[0;34m\u001b[0m\u001b[0;34m\u001b[0m\u001b[0m\n\u001b[0;32m--> 528\u001b[0;31m             \u001b[0;32mraise\u001b[0m \u001b[0mException\u001b[0m\u001b[0;34m(\u001b[0m\u001b[0;34m\"The wandb backend process has shutdown\"\u001b[0m\u001b[0;34m)\u001b[0m\u001b[0;34m\u001b[0m\u001b[0;34m\u001b[0m\u001b[0m\n\u001b[0m\u001b[1;32m    529\u001b[0m         \u001b[0;32mif\u001b[0m \u001b[0mlocal\u001b[0m\u001b[0;34m:\u001b[0m\u001b[0;34m\u001b[0m\u001b[0;34m\u001b[0m\u001b[0m\n\u001b[1;32m    530\u001b[0m             \u001b[0mrecord\u001b[0m\u001b[0;34m.\u001b[0m\u001b[0mcontrol\u001b[0m\u001b[0;34m.\u001b[0m\u001b[0mlocal\u001b[0m \u001b[0;34m=\u001b[0m \u001b[0mlocal\u001b[0m\u001b[0;34m\u001b[0m\u001b[0;34m\u001b[0m\u001b[0m\n",
            "\u001b[0;31mException\u001b[0m: The wandb backend process has shutdown"
          ]
        },
        {
          "output_type": "execute_result",
          "data": {
            "text/plain": [
              "array([[0.9656885],\n",
              "       [0.9656885]], dtype=float32)"
            ]
          },
          "metadata": {
            "tags": []
          },
          "execution_count": 91
        },
        {
          "output_type": "stream",
          "text": [
            "Error in callback <bound method _WandbInit._pause_backend of <wandb.sdk.wandb_init._WandbInit object at 0x7f97664e4110>> (for post_run_cell):\n"
          ],
          "name": "stdout"
        },
        {
          "output_type": "error",
          "ename": "Exception",
          "evalue": "ignored",
          "traceback": [
            "\u001b[0;31m---------------------------------------------------------------------------\u001b[0m",
            "\u001b[0;31mException\u001b[0m                                 Traceback (most recent call last)",
            "\u001b[0;32m/usr/local/lib/python3.7/dist-packages/wandb/sdk/wandb_init.py\u001b[0m in \u001b[0;36m_pause_backend\u001b[0;34m(self)\u001b[0m\n\u001b[1;32m    252\u001b[0m                 \u001b[0mres\u001b[0m \u001b[0;34m=\u001b[0m \u001b[0mself\u001b[0m\u001b[0;34m.\u001b[0m\u001b[0mrun\u001b[0m\u001b[0;34m.\u001b[0m\u001b[0mlog_code\u001b[0m\u001b[0;34m(\u001b[0m\u001b[0mroot\u001b[0m\u001b[0;34m=\u001b[0m\u001b[0;32mNone\u001b[0m\u001b[0;34m)\u001b[0m\u001b[0;34m\u001b[0m\u001b[0;34m\u001b[0m\u001b[0m\n\u001b[1;32m    253\u001b[0m                 \u001b[0mlogger\u001b[0m\u001b[0;34m.\u001b[0m\u001b[0minfo\u001b[0m\u001b[0;34m(\u001b[0m\u001b[0;34m\"saved code: %s\"\u001b[0m\u001b[0;34m,\u001b[0m \u001b[0mres\u001b[0m\u001b[0;34m)\u001b[0m\u001b[0;34m\u001b[0m\u001b[0;34m\u001b[0m\u001b[0m\n\u001b[0;32m--> 254\u001b[0;31m             \u001b[0mself\u001b[0m\u001b[0;34m.\u001b[0m\u001b[0mbackend\u001b[0m\u001b[0;34m.\u001b[0m\u001b[0minterface\u001b[0m\u001b[0;34m.\u001b[0m\u001b[0mpublish_pause\u001b[0m\u001b[0;34m(\u001b[0m\u001b[0;34m)\u001b[0m\u001b[0;34m\u001b[0m\u001b[0;34m\u001b[0m\u001b[0m\n\u001b[0m\u001b[1;32m    255\u001b[0m \u001b[0;34m\u001b[0m\u001b[0m\n\u001b[1;32m    256\u001b[0m     \u001b[0;32mdef\u001b[0m \u001b[0m_resume_backend\u001b[0m\u001b[0;34m(\u001b[0m\u001b[0mself\u001b[0m\u001b[0;34m)\u001b[0m\u001b[0;34m:\u001b[0m\u001b[0;34m\u001b[0m\u001b[0;34m\u001b[0m\u001b[0m\n",
            "\u001b[0;32m/usr/local/lib/python3.7/dist-packages/wandb/sdk/interface/interface.py\u001b[0m in \u001b[0;36mpublish_pause\u001b[0;34m(self)\u001b[0m\n\u001b[1;32m    590\u001b[0m         \u001b[0mpause\u001b[0m \u001b[0;34m=\u001b[0m \u001b[0mpb\u001b[0m\u001b[0;34m.\u001b[0m\u001b[0mPauseRequest\u001b[0m\u001b[0;34m(\u001b[0m\u001b[0;34m)\u001b[0m\u001b[0;34m\u001b[0m\u001b[0;34m\u001b[0m\u001b[0m\n\u001b[1;32m    591\u001b[0m         \u001b[0mrec\u001b[0m \u001b[0;34m=\u001b[0m \u001b[0mself\u001b[0m\u001b[0;34m.\u001b[0m\u001b[0m_make_request\u001b[0m\u001b[0;34m(\u001b[0m\u001b[0mpause\u001b[0m\u001b[0;34m=\u001b[0m\u001b[0mpause\u001b[0m\u001b[0;34m)\u001b[0m\u001b[0;34m\u001b[0m\u001b[0;34m\u001b[0m\u001b[0m\n\u001b[0;32m--> 592\u001b[0;31m         \u001b[0mself\u001b[0m\u001b[0;34m.\u001b[0m\u001b[0m_publish\u001b[0m\u001b[0;34m(\u001b[0m\u001b[0mrec\u001b[0m\u001b[0;34m)\u001b[0m\u001b[0;34m\u001b[0m\u001b[0;34m\u001b[0m\u001b[0m\n\u001b[0m\u001b[1;32m    593\u001b[0m \u001b[0;34m\u001b[0m\u001b[0m\n\u001b[1;32m    594\u001b[0m     \u001b[0;32mdef\u001b[0m \u001b[0mpublish_resume\u001b[0m\u001b[0;34m(\u001b[0m\u001b[0mself\u001b[0m\u001b[0;34m)\u001b[0m \u001b[0;34m->\u001b[0m \u001b[0;32mNone\u001b[0m\u001b[0;34m:\u001b[0m\u001b[0;34m\u001b[0m\u001b[0;34m\u001b[0m\u001b[0m\n",
            "\u001b[0;32m/usr/local/lib/python3.7/dist-packages/wandb/sdk/interface/interface.py\u001b[0m in \u001b[0;36m_publish\u001b[0;34m(self, record, local)\u001b[0m\n\u001b[1;32m    526\u001b[0m     \u001b[0;32mdef\u001b[0m \u001b[0m_publish\u001b[0m\u001b[0;34m(\u001b[0m\u001b[0mself\u001b[0m\u001b[0;34m,\u001b[0m \u001b[0mrecord\u001b[0m\u001b[0;34m:\u001b[0m \u001b[0mpb\u001b[0m\u001b[0;34m.\u001b[0m\u001b[0mRecord\u001b[0m\u001b[0;34m,\u001b[0m \u001b[0mlocal\u001b[0m\u001b[0;34m:\u001b[0m \u001b[0mbool\u001b[0m \u001b[0;34m=\u001b[0m \u001b[0;32mNone\u001b[0m\u001b[0;34m)\u001b[0m \u001b[0;34m->\u001b[0m \u001b[0;32mNone\u001b[0m\u001b[0;34m:\u001b[0m\u001b[0;34m\u001b[0m\u001b[0;34m\u001b[0m\u001b[0m\n\u001b[1;32m    527\u001b[0m         \u001b[0;32mif\u001b[0m \u001b[0mself\u001b[0m\u001b[0;34m.\u001b[0m\u001b[0m_process\u001b[0m \u001b[0;32mand\u001b[0m \u001b[0;32mnot\u001b[0m \u001b[0mself\u001b[0m\u001b[0;34m.\u001b[0m\u001b[0m_process\u001b[0m\u001b[0;34m.\u001b[0m\u001b[0mis_alive\u001b[0m\u001b[0;34m(\u001b[0m\u001b[0;34m)\u001b[0m\u001b[0;34m:\u001b[0m\u001b[0;34m\u001b[0m\u001b[0;34m\u001b[0m\u001b[0m\n\u001b[0;32m--> 528\u001b[0;31m             \u001b[0;32mraise\u001b[0m \u001b[0mException\u001b[0m\u001b[0;34m(\u001b[0m\u001b[0;34m\"The wandb backend process has shutdown\"\u001b[0m\u001b[0;34m)\u001b[0m\u001b[0;34m\u001b[0m\u001b[0;34m\u001b[0m\u001b[0m\n\u001b[0m\u001b[1;32m    529\u001b[0m         \u001b[0;32mif\u001b[0m \u001b[0mlocal\u001b[0m\u001b[0;34m:\u001b[0m\u001b[0;34m\u001b[0m\u001b[0;34m\u001b[0m\u001b[0m\n\u001b[1;32m    530\u001b[0m             \u001b[0mrecord\u001b[0m\u001b[0;34m.\u001b[0m\u001b[0mcontrol\u001b[0m\u001b[0;34m.\u001b[0m\u001b[0mlocal\u001b[0m \u001b[0;34m=\u001b[0m \u001b[0mlocal\u001b[0m\u001b[0;34m\u001b[0m\u001b[0;34m\u001b[0m\u001b[0m\n",
            "\u001b[0;31mException\u001b[0m: The wandb backend process has shutdown"
          ]
        }
      ]
    },
    {
      "cell_type": "code",
      "metadata": {
        "colab": {
          "base_uri": "https://localhost:8080/"
        },
        "id": "3iCgivv5bzVO",
        "outputId": "d249517b-34c4-449c-d9d0-1e94446690ef"
      },
      "source": [
        "model.evaluate((tf.convert_to_tensor(arr1[:]),tf.convert_to_tensor(arr2[:])),np.array(df_edir['prediction'][:]))"
      ],
      "execution_count": null,
      "outputs": [
        {
          "output_type": "stream",
          "text": [
            "518/518 [==============================] - 12s 23ms/step - loss: 0.0521 - accuracy: 0.9921\n"
          ],
          "name": "stdout"
        },
        {
          "output_type": "execute_result",
          "data": {
            "text/plain": [
              "[0.05207446590065956, 0.9921450018882751]"
            ]
          },
          "metadata": {
            "tags": []
          },
          "execution_count": 49
        }
      ]
    },
    {
      "cell_type": "code",
      "metadata": {
        "colab": {
          "base_uri": "https://localhost:8080/",
          "height": 35
        },
        "id": "BbtzhNqlaqUk",
        "outputId": "67bd1283-9be6-4bd6-e090-93486bd7451a"
      },
      "source": [
        "data_dir2 = os.path.join('/content/gdrive/My Drive/Datasets/output_LSTM1')\n",
        "data_dir2"
      ],
      "execution_count": null,
      "outputs": [
        {
          "output_type": "execute_result",
          "data": {
            "application/vnd.google.colaboratory.intrinsic+json": {
              "type": "string"
            },
            "text/plain": [
              "'/content/gdrive/My Drive/Datasets/output_LSTM1'"
            ]
          },
          "metadata": {
            "tags": []
          },
          "execution_count": 67
        }
      ]
    },
    {
      "cell_type": "code",
      "metadata": {
        "colab": {
          "base_uri": "https://localhost:8080/"
        },
        "id": "GS58LAwY66Zh",
        "outputId": "14f85725-b126-4c6d-9dd6-86d99c9eebef"
      },
      "source": [
        "model.save(data_dir2)"
      ],
      "execution_count": null,
      "outputs": [
        {
          "output_type": "stream",
          "text": [
            "WARNING:absl:Found untraced functions such as lstm_cell_2_layer_call_and_return_conditional_losses, lstm_cell_2_layer_call_fn, lstm_cell_3_layer_call_and_return_conditional_losses, lstm_cell_3_layer_call_fn, lstm_cell_2_layer_call_fn while saving (showing 5 of 10). These functions will not be directly callable after loading.\n",
            "WARNING:absl:Found untraced functions such as lstm_cell_2_layer_call_and_return_conditional_losses, lstm_cell_2_layer_call_fn, lstm_cell_3_layer_call_and_return_conditional_losses, lstm_cell_3_layer_call_fn, lstm_cell_2_layer_call_fn while saving (showing 5 of 10). These functions will not be directly callable after loading.\n"
          ],
          "name": "stderr"
        },
        {
          "output_type": "stream",
          "text": [
            "INFO:tensorflow:Assets written to: /content/gdrive/My Drive/Datasets/output_LSTM1/assets\n"
          ],
          "name": "stdout"
        },
        {
          "output_type": "stream",
          "text": [
            "INFO:tensorflow:Assets written to: /content/gdrive/My Drive/Datasets/output_LSTM1/assets\n"
          ],
          "name": "stderr"
        }
      ]
    },
    {
      "cell_type": "markdown",
      "metadata": {
        "id": "HtxV9N_iw8k6"
      },
      "source": [
        "CNN"
      ]
    },
    {
      "cell_type": "code",
      "metadata": {
        "id": "WLQc7_9Hw9pK"
      },
      "source": [
        "left_input = Input(input_shape, name='input_layer1')\n",
        "right_input = Input(input_shape, name='input_layer2')\n",
        "\n",
        "\n",
        "model = Sequential()\n",
        "model.add(Embedding(len(set(attr_all)), 32, input_length=400))\n",
        "model.add(Conv1D(32, 3, padding='same', activation='relu'))\n",
        "model.add(MaxPooling1D())\n",
        "model.add(Flatten())\n",
        "model.add(Dense(250, activation='relu'))\n",
        "model.add(Dense(1, activation='sigmoid'))\n",
        "\n",
        "\n",
        "dense1=model(left_input)\n",
        "dense2=model(right_input)\n",
        "merge_layer = Subtract()([dense1, dense2]) \n",
        "dense_layer = Dense(1, activation=\"relu\", name='output_layer')(merge_layer) \n",
        "\n",
        "\n",
        "model = Model(inputs=[left_input, right_input], outputs=dense_layer)"
      ],
      "execution_count": null,
      "outputs": []
    },
    {
      "cell_type": "code",
      "metadata": {
        "colab": {
          "base_uri": "https://localhost:8080/"
        },
        "id": "PN_JIAoIsz6c",
        "outputId": "2165ee4b-072e-420a-fc50-086150bd2cff"
      },
      "source": [
        "model.summary()"
      ],
      "execution_count": null,
      "outputs": [
        {
          "output_type": "stream",
          "text": [
            "Model: \"model_2\"\n",
            "__________________________________________________________________________________________________\n",
            "Layer (type)                    Output Shape         Param #     Connected to                     \n",
            "==================================================================================================\n",
            "input_layer1 (InputLayer)       [(None, 400)]        0                                            \n",
            "__________________________________________________________________________________________________\n",
            "input_layer2 (InputLayer)       [(None, 400)]        0                                            \n",
            "__________________________________________________________________________________________________\n",
            "sequential_2 (Sequential)       (None, 1)            2115349     input_layer1[0][0]               \n",
            "                                                                 input_layer2[0][0]               \n",
            "__________________________________________________________________________________________________\n",
            "subtract_2 (Subtract)           (None, 1)            0           sequential_2[0][0]               \n",
            "                                                                 sequential_2[1][0]               \n",
            "__________________________________________________________________________________________________\n",
            "output_layer (Dense)            (None, 1)            2           subtract_2[0][0]                 \n",
            "==================================================================================================\n",
            "Total params: 2,115,351\n",
            "Trainable params: 2,115,351\n",
            "Non-trainable params: 0\n",
            "__________________________________________________________________________________________________\n"
          ],
          "name": "stdout"
        }
      ]
    },
    {
      "cell_type": "code",
      "metadata": {
        "id": "HH-0B-ws5hMs"
      },
      "source": [
        "model.compile(loss='binary_crossentropy', optimizer='adam', metrics=['accuracy'])"
      ],
      "execution_count": null,
      "outputs": []
    },
    {
      "cell_type": "code",
      "metadata": {
        "id": "wpDfwezp_3I6"
      },
      "source": [
        "arr1=tf.keras.preprocessing.sequence.pad_sequences(arr1, maxlen=400)\n",
        "arr2=tf.keras.preprocessing.sequence.pad_sequences(arr2, maxlen=400)"
      ],
      "execution_count": null,
      "outputs": []
    },
    {
      "cell_type": "code",
      "metadata": {
        "colab": {
          "base_uri": "https://localhost:8080/",
          "height": 631
        },
        "id": "oDiOx1e2g-WD",
        "outputId": "f33dec63-933c-4324-9c38-41a6d31a1a4f"
      },
      "source": [
        "wandb.init()"
      ],
      "execution_count": null,
      "outputs": [
        {
          "output_type": "display_data",
          "data": {
            "text/html": [
              "Finishing last run (ID:1kwgaetu) before initializing another..."
            ],
            "text/plain": [
              "<IPython.core.display.HTML object>"
            ]
          },
          "metadata": {
            "tags": []
          }
        },
        {
          "output_type": "display_data",
          "data": {
            "text/html": [
              "...Successfully finished last run (ID:1kwgaetu). Initializing new run:<br/><br/>"
            ],
            "text/plain": [
              "<IPython.core.display.HTML object>"
            ]
          },
          "metadata": {
            "tags": []
          }
        },
        {
          "output_type": "display_data",
          "data": {
            "text/html": [
              "\n",
              "                Tracking run with wandb version 0.10.29<br/>\n",
              "                Syncing run <strong style=\"color:#cdcd00\">laced-wildflower-699</strong> to <a href=\"https://wandb.ai\" target=\"_blank\">Weights & Biases</a> <a href=\"https://docs.wandb.com/integrations/jupyter.html\" target=\"_blank\">(Documentation)</a>.<br/>\n",
              "                Project page: <a href=\"https://wandb.ai/ruzya2020/uncategorized\" target=\"_blank\">https://wandb.ai/ruzya2020/uncategorized</a><br/>\n",
              "                Run page: <a href=\"https://wandb.ai/ruzya2020/uncategorized/runs/fefpg6b8\" target=\"_blank\">https://wandb.ai/ruzya2020/uncategorized/runs/fefpg6b8</a><br/>\n",
              "                Run data is saved locally in <code>/content/wandb/run-20210504_200702-fefpg6b8</code><br/><br/>\n",
              "            "
            ],
            "text/plain": [
              "<IPython.core.display.HTML object>"
            ]
          },
          "metadata": {
            "tags": []
          }
        },
        {
          "output_type": "execute_result",
          "data": {
            "text/plain": [
              "<wandb.sdk.wandb_run.Run at 0x7f45d978e810>"
            ],
            "text/html": [
              "<h1>Run(fefpg6b8)</h1><iframe src=\"https://wandb.ai/ruzya2020/uncategorized/runs/fefpg6b8\" style=\"border:none;width:100%;height:400px\"></iframe>"
            ]
          },
          "metadata": {
            "tags": []
          },
          "execution_count": 68
        }
      ]
    },
    {
      "cell_type": "code",
      "metadata": {
        "colab": {
          "base_uri": "https://localhost:8080/"
        },
        "id": "w0XP1HBLBgUR",
        "outputId": "d43938de-2b89-4311-d936-de251eb8883b"
      },
      "source": [
        "\n",
        "size=10000\n",
        "model.fit([arr1[:size],arr2[:size]],np.array(df_edir['prediction'][:size]), batch_size= 15, epochs=30, callbacks=[WandbCallback()], validation_data=([arr1[size:],arr2[size:]],np.array(df_edir['prediction'][size:])))"
      ],
      "execution_count": null,
      "outputs": [
        {
          "output_type": "stream",
          "text": [
            "Epoch 1/30\n",
            "667/667 [==============================] - 8s 12ms/step - loss: 0.0178 - accuracy: 0.9984 - val_loss: 0.1598 - val_accuracy: 0.9829\n",
            "Epoch 2/30\n",
            "667/667 [==============================] - 8s 11ms/step - loss: 0.0175 - accuracy: 0.9986 - val_loss: 0.1619 - val_accuracy: 0.9814\n",
            "Epoch 3/30\n",
            "667/667 [==============================] - 7s 11ms/step - loss: 0.0176 - accuracy: 0.9984 - val_loss: 0.1548 - val_accuracy: 0.9824\n",
            "Epoch 4/30\n",
            "667/667 [==============================] - 7s 11ms/step - loss: 0.0175 - accuracy: 0.9986 - val_loss: 0.1587 - val_accuracy: 0.9826\n",
            "Epoch 5/30\n",
            "667/667 [==============================] - 7s 11ms/step - loss: 0.0168 - accuracy: 0.9986 - val_loss: 0.1613 - val_accuracy: 0.9824\n",
            "Epoch 6/30\n",
            "667/667 [==============================] - 7s 11ms/step - loss: 0.0180 - accuracy: 0.9983 - val_loss: 0.1592 - val_accuracy: 0.9826\n",
            "Epoch 7/30\n",
            "667/667 [==============================] - 7s 11ms/step - loss: 0.0174 - accuracy: 0.9987 - val_loss: 0.1577 - val_accuracy: 0.9826\n",
            "Epoch 8/30\n",
            "667/667 [==============================] - 7s 11ms/step - loss: 0.0173 - accuracy: 0.9985 - val_loss: 0.1558 - val_accuracy: 0.9834\n",
            "Epoch 9/30\n",
            "667/667 [==============================] - 7s 11ms/step - loss: 0.0189 - accuracy: 0.9985 - val_loss: 0.1575 - val_accuracy: 0.9844\n",
            "Epoch 10/30\n",
            "667/667 [==============================] - 7s 11ms/step - loss: 0.0210 - accuracy: 0.9982 - val_loss: 0.1675 - val_accuracy: 0.9838\n",
            "Epoch 11/30\n",
            "667/667 [==============================] - 8s 11ms/step - loss: 0.0192 - accuracy: 0.9985 - val_loss: 0.1633 - val_accuracy: 0.9831\n",
            "Epoch 12/30\n",
            "667/667 [==============================] - 7s 11ms/step - loss: 0.0205 - accuracy: 0.9985 - val_loss: 0.1825 - val_accuracy: 0.9827\n",
            "Epoch 13/30\n",
            "667/667 [==============================] - 7s 11ms/step - loss: 0.0201 - accuracy: 0.9987 - val_loss: 0.1732 - val_accuracy: 0.9827\n",
            "Epoch 14/30\n",
            "667/667 [==============================] - 7s 11ms/step - loss: 0.0221 - accuracy: 0.9984 - val_loss: 0.1816 - val_accuracy: 0.9809\n",
            "Epoch 15/30\n",
            "667/667 [==============================] - 7s 11ms/step - loss: 0.0248 - accuracy: 0.9984 - val_loss: 0.1787 - val_accuracy: 0.9821\n",
            "Epoch 16/30\n",
            "667/667 [==============================] - 7s 11ms/step - loss: 0.0248 - accuracy: 0.9984 - val_loss: 0.1663 - val_accuracy: 0.9814\n",
            "Epoch 17/30\n",
            "667/667 [==============================] - 7s 11ms/step - loss: 0.0235 - accuracy: 0.9983 - val_loss: 0.1750 - val_accuracy: 0.9824\n",
            "Epoch 18/30\n",
            "667/667 [==============================] - 7s 11ms/step - loss: 0.0199 - accuracy: 0.9983 - val_loss: 0.1679 - val_accuracy: 0.9811\n",
            "Epoch 19/30\n",
            "667/667 [==============================] - 7s 11ms/step - loss: 0.0185 - accuracy: 0.9988 - val_loss: 0.1674 - val_accuracy: 0.9821\n",
            "Epoch 20/30\n",
            "667/667 [==============================] - 7s 11ms/step - loss: 0.0184 - accuracy: 0.9988 - val_loss: 0.1691 - val_accuracy: 0.9820\n",
            "Epoch 21/30\n",
            "667/667 [==============================] - 7s 11ms/step - loss: 0.0184 - accuracy: 0.9988 - val_loss: 0.1855 - val_accuracy: 0.9809\n",
            "Epoch 22/30\n",
            "667/667 [==============================] - 7s 11ms/step - loss: 0.0184 - accuracy: 0.9988 - val_loss: 0.1855 - val_accuracy: 0.9809\n",
            "Epoch 23/30\n",
            "667/667 [==============================] - 7s 11ms/step - loss: 0.0184 - accuracy: 0.9988 - val_loss: 0.1855 - val_accuracy: 0.9809\n",
            "Epoch 24/30\n",
            "667/667 [==============================] - 7s 11ms/step - loss: 0.0184 - accuracy: 0.9988 - val_loss: 0.1855 - val_accuracy: 0.9809\n",
            "Epoch 25/30\n",
            "667/667 [==============================] - 7s 11ms/step - loss: 0.0184 - accuracy: 0.9988 - val_loss: 0.1855 - val_accuracy: 0.9809\n",
            "Epoch 26/30\n",
            "667/667 [==============================] - 7s 11ms/step - loss: 0.0184 - accuracy: 0.9988 - val_loss: 0.1855 - val_accuracy: 0.9809\n",
            "Epoch 27/30\n",
            "667/667 [==============================] - 7s 11ms/step - loss: 0.0184 - accuracy: 0.9988 - val_loss: 0.1855 - val_accuracy: 0.9809\n",
            "Epoch 28/30\n",
            "667/667 [==============================] - 7s 11ms/step - loss: 0.0184 - accuracy: 0.9988 - val_loss: 0.1855 - val_accuracy: 0.9809\n",
            "Epoch 29/30\n",
            "667/667 [==============================] - 7s 11ms/step - loss: 0.0184 - accuracy: 0.9988 - val_loss: 0.1855 - val_accuracy: 0.9809\n",
            "Epoch 30/30\n",
            "667/667 [==============================] - 7s 11ms/step - loss: 0.0184 - accuracy: 0.9988 - val_loss: 0.1855 - val_accuracy: 0.9809\n"
          ],
          "name": "stdout"
        },
        {
          "output_type": "execute_result",
          "data": {
            "text/plain": [
              "<tensorflow.python.keras.callbacks.History at 0x7f45c64ca8d0>"
            ]
          },
          "metadata": {
            "tags": []
          },
          "execution_count": 76
        }
      ]
    },
    {
      "cell_type": "code",
      "metadata": {
        "colab": {
          "base_uri": "https://localhost:8080/"
        },
        "id": "p0BvCtZZErVN",
        "outputId": "e09f8fbf-fe53-483e-a1f8-2b29a24287f3"
      },
      "source": [
        "model.evaluate((tf.convert_to_tensor(arr1[:]),tf.convert_to_tensor(arr2[:])),np.array(df_edir['prediction'][:]))"
      ],
      "execution_count": null,
      "outputs": [
        {
          "output_type": "stream",
          "text": [
            "518/518 [==============================] - 2s 3ms/step - loss: 0.0734 - accuracy: 0.9926\n"
          ],
          "name": "stdout"
        },
        {
          "output_type": "execute_result",
          "data": {
            "text/plain": [
              "[0.07338368147611618, 0.9926283955574036]"
            ]
          },
          "metadata": {
            "tags": []
          },
          "execution_count": 75
        }
      ]
    },
    {
      "cell_type": "code",
      "metadata": {
        "colab": {
          "base_uri": "https://localhost:8080/"
        },
        "id": "uSoB6ACw9r77",
        "outputId": "5ea3ad9a-6f74-4f8f-fcc0-41e81476bb09"
      },
      "source": [
        "model.predict([[arrn,arrn]])"
      ],
      "execution_count": null,
      "outputs": [
        {
          "output_type": "execute_result",
          "data": {
            "text/plain": [
              "array([[1.0024873],\n",
              "       [1.0024873]], dtype=float32)"
            ]
          },
          "metadata": {
            "tags": []
          },
          "execution_count": 78
        }
      ]
    },
    {
      "cell_type": "code",
      "metadata": {
        "id": "wmrdEcZZCjWd",
        "colab": {
          "base_uri": "https://localhost:8080/"
        },
        "outputId": "8bd17712-dedb-4131-ac20-05ed30ffadba"
      },
      "source": [
        "model.evaluate([arr1[:],arr1[:]],np.full((16550), 1))"
      ],
      "execution_count": null,
      "outputs": [
        {
          "output_type": "stream",
          "text": [
            "518/518 [==============================] - 2s 4ms/step - loss: 0.0000e+00 - accuracy: 1.0000\n"
          ],
          "name": "stdout"
        },
        {
          "output_type": "execute_result",
          "data": {
            "text/plain": [
              "[0.0, 1.0]"
            ]
          },
          "metadata": {
            "tags": []
          },
          "execution_count": 79
        }
      ]
    },
    {
      "cell_type": "code",
      "metadata": {
        "colab": {
          "base_uri": "https://localhost:8080/",
          "height": 35
        },
        "id": "_5W64MJc2SGE",
        "outputId": "1a7ee156-7e89-4ad7-92ce-db87cdba2c43"
      },
      "source": [
        "data_dir3 = os.path.join('/content/gdrive/My Drive/Datasets/output_CNN_EMBEDDING3')\n",
        "data_dir3"
      ],
      "execution_count": null,
      "outputs": [
        {
          "output_type": "execute_result",
          "data": {
            "application/vnd.google.colaboratory.intrinsic+json": {
              "type": "string"
            },
            "text/plain": [
              "'/content/gdrive/My Drive/Datasets/output_CNN_EMBEDDING3'"
            ]
          },
          "metadata": {
            "tags": []
          },
          "execution_count": 73
        }
      ]
    },
    {
      "cell_type": "code",
      "metadata": {
        "colab": {
          "base_uri": "https://localhost:8080/"
        },
        "id": "D98HkJ-F4Uln",
        "outputId": "48e8288a-664e-4c46-9c74-dbc417acb43c"
      },
      "source": [
        "model.save(data_dir3)"
      ],
      "execution_count": null,
      "outputs": [
        {
          "output_type": "stream",
          "text": [
            "INFO:tensorflow:Assets written to: /content/gdrive/My Drive/Datasets/output_CNN_EMBEDDING3/assets\n"
          ],
          "name": "stdout"
        }
      ]
    },
    {
      "cell_type": "code",
      "metadata": {
        "colab": {
          "base_uri": "https://localhost:8080/",
          "height": 80
        },
        "id": "PklTlxTQiZiG",
        "outputId": "ce5ba33d-463f-4d9e-ef7a-45c8846f4f21"
      },
      "source": [
        "\n",
        "df=pd.DataFrame(dic)\n",
        "df.T"
      ],
      "execution_count": null,
      "outputs": [
        {
          "output_type": "execute_result",
          "data": {
            "text/html": [
              "<div>\n",
              "<style scoped>\n",
              "    .dataframe tbody tr th:only-of-type {\n",
              "        vertical-align: middle;\n",
              "    }\n",
              "\n",
              "    .dataframe tbody tr th {\n",
              "        vertical-align: top;\n",
              "    }\n",
              "\n",
              "    .dataframe thead th {\n",
              "        text-align: right;\n",
              "    }\n",
              "</style>\n",
              "<table border=\"1\" class=\"dataframe\">\n",
              "  <thead>\n",
              "    <tr style=\"text-align: right;\">\n",
              "      <th></th>\n",
              "      <th>element</th>\n",
              "      <th>signature</th>\n",
              "      <th>prediction</th>\n",
              "    </tr>\n",
              "  </thead>\n",
              "  <tbody>\n",
              "    <tr>\n",
              "      <th>0</th>\n",
              "      <td>[[8, 1, 1, 1, 10, 17, 8, 1, 1, 1, 212, 10, 17,...</td>\n",
              "      <td>[[8, 57, 57, 57, 10, 17, 8, 57, 57, 57, 17, 10...</td>\n",
              "      <td>[0.0, 1.0, 0.0, 0.0, 0.0, 1.0, 0.0, 0.0, 0.0, ...</td>\n",
              "    </tr>\n",
              "  </tbody>\n",
              "</table>\n",
              "</div>"
            ],
            "text/plain": [
              "                                             element  ...                                         prediction\n",
              "0  [[8, 1, 1, 1, 10, 17, 8, 1, 1, 1, 212, 10, 17,...  ...  [0.0, 1.0, 0.0, 0.0, 0.0, 1.0, 0.0, 0.0, 0.0, ...\n",
              "\n",
              "[1 rows x 3 columns]"
            ]
          },
          "metadata": {
            "tags": []
          },
          "execution_count": 72
        }
      ]
    },
    {
      "cell_type": "code",
      "metadata": {
        "id": "W32h00J0U8Dm"
      },
      "source": [
        "df_edir=df_edir.sample(frac=1)"
      ],
      "execution_count": null,
      "outputs": []
    },
    {
      "cell_type": "code",
      "metadata": {
        "colab": {
          "base_uri": "https://localhost:8080/",
          "height": 111
        },
        "id": "3bOH-fimhS4c",
        "outputId": "e85306f7-ceb4-4d61-80ed-f70edb19ae6d"
      },
      "source": [
        "df##"
      ],
      "execution_count": null,
      "outputs": [
        {
          "output_type": "execute_result",
          "data": {
            "text/html": [
              "<div>\n",
              "<style scoped>\n",
              "    .dataframe tbody tr th:only-of-type {\n",
              "        vertical-align: middle;\n",
              "    }\n",
              "\n",
              "    .dataframe tbody tr th {\n",
              "        vertical-align: top;\n",
              "    }\n",
              "\n",
              "    .dataframe thead th {\n",
              "        text-align: right;\n",
              "    }\n",
              "</style>\n",
              "<table border=\"1\" class=\"dataframe\">\n",
              "  <thead>\n",
              "    <tr style=\"text-align: right;\">\n",
              "      <th></th>\n",
              "      <th>0</th>\n",
              "    </tr>\n",
              "  </thead>\n",
              "  <tbody>\n",
              "    <tr>\n",
              "      <th>element</th>\n",
              "      <td>[[8, 1, 1, 1, 10, 17, 8, 1, 1, 1, 212, 10, 17,...</td>\n",
              "    </tr>\n",
              "    <tr>\n",
              "      <th>signature</th>\n",
              "      <td>[[8, 57, 57, 57, 10, 17, 8, 57, 57, 57, 17, 10...</td>\n",
              "    </tr>\n",
              "  </tbody>\n",
              "</table>\n",
              "</div>"
            ],
            "text/plain": [
              "                                                           0\n",
              "element    [[8, 1, 1, 1, 10, 17, 8, 1, 1, 1, 212, 10, 17,...\n",
              "signature  [[8, 57, 57, 57, 10, 17, 8, 57, 57, 57, 17, 10..."
            ]
          },
          "metadata": {
            "tags": []
          },
          "execution_count": 76
        }
      ]
    }
  ]
}